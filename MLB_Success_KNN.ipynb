{
 "cells": [
  {
   "cell_type": "code",
   "execution_count": 1,
   "id": "2a78cc0e-b03a-4bbd-ac46-e0b6bc746743",
   "metadata": {},
   "outputs": [],
   "source": [
    "import pandas as pd\n",
    "import matplotlib.pyplot as plt\n",
    "import numpy as np\n",
    "import seaborn as sns\n",
    "import math\n",
    "from operator import itemgetter"
   ]
  },
  {
   "cell_type": "code",
   "execution_count": 2,
   "id": "16a961ad-823e-4700-86ee-325f20ea75e3",
   "metadata": {},
   "outputs": [],
   "source": [
    "batting_data = pd.read_csv('mlb_batting.csv')"
   ]
  },
  {
   "cell_type": "code",
   "execution_count": 3,
   "id": "c785b7ad-3bba-436d-ae71-80766e56d83e",
   "metadata": {
    "jupyter": {
     "source_hidden": true
    },
    "scrolled": true
   },
   "outputs": [
    {
     "data": {
      "text/plain": [
       "<bound method DataFrame.info of        name_last_first  player_id  year  player_age   ab   pa  hit  single  \\\n",
       "0        Hunter, Torii     116338  2015          39  521  567  125      81   \n",
       "1         Ortiz, David     120074  2015          39  528  614  144      70   \n",
       "2      Rodriguez, Alex     121347  2015          39  523  620  131      75   \n",
       "3      Ramirez, Aramis     133380  2015          37  475  516  117      68   \n",
       "4       Beltré, Adrian     134181  2015          36  567  619  163     109   \n",
       "...                ...        ...   ...         ...  ...  ...  ...     ...   \n",
       "1370  Chourio, Jackson     694192  2024          20  528  573  145      91   \n",
       "1371   Schanuel, Nolan     694384  2024          22  519  607  130      98   \n",
       "1372   Langford, Wyatt     694671  2024          22  499  557  126      81   \n",
       "1373      Young, Jacob     696285  2024          24  468  521  120      92   \n",
       "1374  Merrill, Jackson     701538  2024          21  554  593  162     101   \n",
       "\n",
       "      double  triple  ...  opposite_percent  batted_ball  groundballs_percent  \\\n",
       "0         22       0  ...              24.2          421                 49.4   \n",
       "1         37       0  ...              21.7          442                 37.6   \n",
       "2         22       1  ...              16.6          385                 43.6   \n",
       "3         31       1  ...              24.8          412                 37.6   \n",
       "4         32       4  ...              23.3          510                 42.4   \n",
       "...      ...     ...  ...               ...          ...                  ...   \n",
       "1370      29       4  ...              24.1          410                 48.0   \n",
       "1371      19       0  ...              23.0          426                 46.2   \n",
       "1372      25       4  ...              22.0          387                 40.1   \n",
       "1373      24       1  ...              36.9          377                 56.5   \n",
       "1374      31       6  ...              26.0          462                 36.8   \n",
       "\n",
       "      groundballs  flyballs_percent  flyballs  linedrives_percent  linedrives  \\\n",
       "0             208              22.6        95                20.9          88   \n",
       "1             166              25.6       113                28.7         127   \n",
       "2             168              24.9        96                24.9          96   \n",
       "3             155              24.5       101                29.1         120   \n",
       "4             216              18.4        94                31.6         161   \n",
       "...           ...               ...       ...                 ...         ...   \n",
       "1370          197              24.4       100                23.9          98   \n",
       "1371          197              22.5        96                27.7         118   \n",
       "1372          155              28.9       112                22.0          85   \n",
       "1373          213              15.4        58                23.1          87   \n",
       "1374          170              33.1       153                26.0         120   \n",
       "\n",
       "      popups_percent  popups  \n",
       "0                7.1      30  \n",
       "1                8.1      36  \n",
       "2                6.5      25  \n",
       "3                8.7      36  \n",
       "4                7.6      39  \n",
       "...              ...     ...  \n",
       "1370             3.7      15  \n",
       "1371             3.5      15  \n",
       "1372             9.0      35  \n",
       "1373             5.0      19  \n",
       "1374             4.1      19  \n",
       "\n",
       "[1375 rows x 88 columns]>"
      ]
     },
     "execution_count": 3,
     "metadata": {},
     "output_type": "execute_result"
    }
   ],
   "source": [
    "batting_data.info"
   ]
  },
  {
   "cell_type": "code",
   "execution_count": 4,
   "id": "3b4cdd73-7831-4ab6-8977-93e813d9c1a6",
   "metadata": {
    "scrolled": true
   },
   "outputs": [
    {
     "data": {
      "text/html": [
       "<div>\n",
       "<style scoped>\n",
       "    .dataframe tbody tr th:only-of-type {\n",
       "        vertical-align: middle;\n",
       "    }\n",
       "\n",
       "    .dataframe tbody tr th {\n",
       "        vertical-align: top;\n",
       "    }\n",
       "\n",
       "    .dataframe thead th {\n",
       "        text-align: right;\n",
       "    }\n",
       "</style>\n",
       "<table border=\"1\" class=\"dataframe\">\n",
       "  <thead>\n",
       "    <tr style=\"text-align: right;\">\n",
       "      <th></th>\n",
       "      <th>woba</th>\n",
       "      <th>on_base_plus_slg</th>\n",
       "      <th>hard_hit_percent</th>\n",
       "    </tr>\n",
       "  </thead>\n",
       "  <tbody>\n",
       "    <tr>\n",
       "      <th>count</th>\n",
       "      <td>1375.000000</td>\n",
       "      <td>1375.000000</td>\n",
       "      <td>1375.000000</td>\n",
       "    </tr>\n",
       "    <tr>\n",
       "      <th>mean</th>\n",
       "      <td>0.337727</td>\n",
       "      <td>0.788594</td>\n",
       "      <td>39.171927</td>\n",
       "    </tr>\n",
       "    <tr>\n",
       "      <th>std</th>\n",
       "      <td>0.034218</td>\n",
       "      <td>0.090758</td>\n",
       "      <td>7.745796</td>\n",
       "    </tr>\n",
       "    <tr>\n",
       "      <th>min</th>\n",
       "      <td>0.239000</td>\n",
       "      <td>0.539000</td>\n",
       "      <td>8.500000</td>\n",
       "    </tr>\n",
       "    <tr>\n",
       "      <th>25%</th>\n",
       "      <td>0.315000</td>\n",
       "      <td>0.727000</td>\n",
       "      <td>34.650000</td>\n",
       "    </tr>\n",
       "    <tr>\n",
       "      <th>50%</th>\n",
       "      <td>0.335000</td>\n",
       "      <td>0.782000</td>\n",
       "      <td>39.700000</td>\n",
       "    </tr>\n",
       "    <tr>\n",
       "      <th>75%</th>\n",
       "      <td>0.358000</td>\n",
       "      <td>0.839000</td>\n",
       "      <td>44.050000</td>\n",
       "    </tr>\n",
       "    <tr>\n",
       "      <th>max</th>\n",
       "      <td>0.478000</td>\n",
       "      <td>1.185000</td>\n",
       "      <td>62.200000</td>\n",
       "    </tr>\n",
       "  </tbody>\n",
       "</table>\n",
       "</div>"
      ],
      "text/plain": [
       "              woba  on_base_plus_slg  hard_hit_percent\n",
       "count  1375.000000       1375.000000       1375.000000\n",
       "mean      0.337727          0.788594         39.171927\n",
       "std       0.034218          0.090758          7.745796\n",
       "min       0.239000          0.539000          8.500000\n",
       "25%       0.315000          0.727000         34.650000\n",
       "50%       0.335000          0.782000         39.700000\n",
       "75%       0.358000          0.839000         44.050000\n",
       "max       0.478000          1.185000         62.200000"
      ]
     },
     "execution_count": 4,
     "metadata": {},
     "output_type": "execute_result"
    }
   ],
   "source": [
    "batting_data[['woba', 'on_base_plus_slg', 'hard_hit_percent']].describe()"
   ]
  },
  {
   "cell_type": "code",
   "execution_count": 5,
   "id": "94a91397-3ac7-488b-a6b3-f704cbf749d3",
   "metadata": {},
   "outputs": [
    {
     "data": {
      "text/plain": [
       "(1375, 88)"
      ]
     },
     "execution_count": 5,
     "metadata": {},
     "output_type": "execute_result"
    }
   ],
   "source": [
    "batting_data.shape"
   ]
  },
  {
   "cell_type": "code",
   "execution_count": 6,
   "id": "56b72fcb-e879-4609-bfa2-c8c086c82a1e",
   "metadata": {
    "scrolled": true
   },
   "outputs": [],
   "source": [
    "# Z normalize list of desired columns\n",
    "def normalize(data, col_list):\n",
    "    new_data = {}\n",
    "    for column in data.columns:\n",
    "        if column in col_list:\n",
    "            col_data = []\n",
    "            for index_r in range(data.shape[0]):    \n",
    "                z_normalize = ((data.loc[index_r, column] - data[column].mean())\n",
    "                    / data[column].std())\n",
    "                col_data.append(z_normalize)\n",
    "                col_name = f'Znorm_{column}'\n",
    "            new_data[col_name] = col_data\n",
    "    return(new_data)"
   ]
  },
  {
   "cell_type": "code",
   "execution_count": 7,
   "id": "9aedee52-a7eb-4324-bb30-861f1c4c7919",
   "metadata": {},
   "outputs": [],
   "source": [
    "norm_cols = ['woba', 'on_base_plus_slg', 'hard_hit_percent']\n",
    "df_norms = pd.DataFrame(normalize(batting_data, norm_cols))\n",
    "df = pd.concat([batting_data, df_norms], axis=1)"
   ]
  },
  {
   "cell_type": "code",
   "execution_count": 8,
   "id": "38ef1f38-2145-405a-baa9-7f0280f25be5",
   "metadata": {},
   "outputs": [],
   "source": [
    "# assign success labels\n",
    "def assign_labels_quad(data):\n",
    "    woba_weight = 0.4\n",
    "    ops_weight = 0.4\n",
    "    hh_weight = 0.2\n",
    "    labeled_data = []\n",
    "    for index in range(data.shape[0]):\n",
    "        weighted_score = ((data.loc[index, 'Znorm_woba'] * woba_weight) +\n",
    "            (data.loc[index, 'Znorm_on_base_plus_slg'] * ops_weight) +\n",
    "            (data.loc[index, 'Znorm_hard_hit_percent'] * hh_weight))\n",
    "        if weighted_score > 1:\n",
    "            labeled_data.append(4)\n",
    "        elif weighted_score > 0:\n",
    "            labeled_data.append(3)\n",
    "        elif weighted_score > -1:\n",
    "            labeled_data.append(2)\n",
    "        else:\n",
    "            labeled_data.append(1)\n",
    "\n",
    "    success = {'success_4': labeled_data}\n",
    "    return success"
   ]
  },
  {
   "cell_type": "code",
   "execution_count": 9,
   "id": "29a74180-cdae-4e5e-a347-c106977768a1",
   "metadata": {},
   "outputs": [],
   "source": [
    "# assign success labels\n",
    "def assign_labels_bin(data):\n",
    "    woba_weight = 0.4\n",
    "    ops_weight = 0.4\n",
    "    hh_weight = 0.2\n",
    "    labeled_data = []\n",
    "    for index in range(data.shape[0]):\n",
    "        weighted_score = ((data.loc[index, 'Znorm_woba'] * woba_weight) +\n",
    "            (data.loc[index, 'Znorm_on_base_plus_slg'] * ops_weight) +\n",
    "            (data.loc[index, 'Znorm_hard_hit_percent'] * hh_weight))\n",
    "        if weighted_score > 0:\n",
    "            labeled_data.append(1)\n",
    "        else:\n",
    "            labeled_data.append(0)\n",
    "    success = {'success_2': labeled_data}\n",
    "    return success"
   ]
  },
  {
   "cell_type": "code",
   "execution_count": 10,
   "id": "639c2d0c-589b-44d1-a3b2-c36a8cb8a566",
   "metadata": {},
   "outputs": [],
   "source": [
    "success_binary = pd.DataFrame(assign_labels_bin(df))\n",
    "success_quarters = pd.DataFrame(assign_labels_quad(df))\n",
    "knn_data = pd.concat([df, success_binary, success_quarters], axis=1)"
   ]
  },
  {
   "cell_type": "code",
   "execution_count": 11,
   "id": "02a35e82-971a-4f38-9471-247311ed872d",
   "metadata": {},
   "outputs": [
    {
     "data": {
      "text/html": [
       "<div>\n",
       "<style scoped>\n",
       "    .dataframe tbody tr th:only-of-type {\n",
       "        vertical-align: middle;\n",
       "    }\n",
       "\n",
       "    .dataframe tbody tr th {\n",
       "        vertical-align: top;\n",
       "    }\n",
       "\n",
       "    .dataframe thead th {\n",
       "        text-align: right;\n",
       "    }\n",
       "</style>\n",
       "<table border=\"1\" class=\"dataframe\">\n",
       "  <thead>\n",
       "    <tr style=\"text-align: right;\">\n",
       "      <th></th>\n",
       "      <th>name_last_first</th>\n",
       "      <th>player_id</th>\n",
       "      <th>year</th>\n",
       "      <th>player_age</th>\n",
       "      <th>ab</th>\n",
       "      <th>pa</th>\n",
       "      <th>hit</th>\n",
       "      <th>single</th>\n",
       "      <th>double</th>\n",
       "      <th>triple</th>\n",
       "      <th>...</th>\n",
       "      <th>flyballs</th>\n",
       "      <th>linedrives_percent</th>\n",
       "      <th>linedrives</th>\n",
       "      <th>popups_percent</th>\n",
       "      <th>popups</th>\n",
       "      <th>Znorm_on_base_plus_slg</th>\n",
       "      <th>Znorm_woba</th>\n",
       "      <th>Znorm_hard_hit_percent</th>\n",
       "      <th>success_2</th>\n",
       "      <th>success_4</th>\n",
       "    </tr>\n",
       "  </thead>\n",
       "  <tbody>\n",
       "    <tr>\n",
       "      <th>0</th>\n",
       "      <td>Hunter, Torii</td>\n",
       "      <td>116338</td>\n",
       "      <td>2015</td>\n",
       "      <td>39</td>\n",
       "      <td>521</td>\n",
       "      <td>567</td>\n",
       "      <td>125</td>\n",
       "      <td>81</td>\n",
       "      <td>22</td>\n",
       "      <td>0</td>\n",
       "      <td>...</td>\n",
       "      <td>95</td>\n",
       "      <td>20.9</td>\n",
       "      <td>88</td>\n",
       "      <td>7.1</td>\n",
       "      <td>30</td>\n",
       "      <td>-0.954120</td>\n",
       "      <td>-0.985661</td>\n",
       "      <td>-0.551516</td>\n",
       "      <td>0</td>\n",
       "      <td>2</td>\n",
       "    </tr>\n",
       "    <tr>\n",
       "      <th>1</th>\n",
       "      <td>Ortiz, David</td>\n",
       "      <td>120074</td>\n",
       "      <td>2015</td>\n",
       "      <td>39</td>\n",
       "      <td>528</td>\n",
       "      <td>614</td>\n",
       "      <td>144</td>\n",
       "      <td>70</td>\n",
       "      <td>37</td>\n",
       "      <td>0</td>\n",
       "      <td>...</td>\n",
       "      <td>113</td>\n",
       "      <td>28.7</td>\n",
       "      <td>127</td>\n",
       "      <td>8.1</td>\n",
       "      <td>36</td>\n",
       "      <td>1.370740</td>\n",
       "      <td>1.206173</td>\n",
       "      <td>1.281737</td>\n",
       "      <td>1</td>\n",
       "      <td>4</td>\n",
       "    </tr>\n",
       "    <tr>\n",
       "      <th>2</th>\n",
       "      <td>Rodriguez, Alex</td>\n",
       "      <td>121347</td>\n",
       "      <td>2015</td>\n",
       "      <td>39</td>\n",
       "      <td>523</td>\n",
       "      <td>620</td>\n",
       "      <td>131</td>\n",
       "      <td>75</td>\n",
       "      <td>22</td>\n",
       "      <td>1</td>\n",
       "      <td>...</td>\n",
       "      <td>96</td>\n",
       "      <td>24.9</td>\n",
       "      <td>96</td>\n",
       "      <td>6.5</td>\n",
       "      <td>25</td>\n",
       "      <td>0.588441</td>\n",
       "      <td>0.680133</td>\n",
       "      <td>0.610405</td>\n",
       "      <td>1</td>\n",
       "      <td>3</td>\n",
       "    </tr>\n",
       "    <tr>\n",
       "      <th>3</th>\n",
       "      <td>Ramirez, Aramis</td>\n",
       "      <td>133380</td>\n",
       "      <td>2015</td>\n",
       "      <td>37</td>\n",
       "      <td>475</td>\n",
       "      <td>516</td>\n",
       "      <td>117</td>\n",
       "      <td>68</td>\n",
       "      <td>31</td>\n",
       "      <td>1</td>\n",
       "      <td>...</td>\n",
       "      <td>101</td>\n",
       "      <td>29.1</td>\n",
       "      <td>120</td>\n",
       "      <td>8.7</td>\n",
       "      <td>36</td>\n",
       "      <td>-0.755791</td>\n",
       "      <td>-0.839539</td>\n",
       "      <td>-0.603156</td>\n",
       "      <td>0</td>\n",
       "      <td>2</td>\n",
       "    </tr>\n",
       "    <tr>\n",
       "      <th>4</th>\n",
       "      <td>Beltré, Adrian</td>\n",
       "      <td>134181</td>\n",
       "      <td>2015</td>\n",
       "      <td>36</td>\n",
       "      <td>567</td>\n",
       "      <td>619</td>\n",
       "      <td>163</td>\n",
       "      <td>109</td>\n",
       "      <td>32</td>\n",
       "      <td>4</td>\n",
       "      <td>...</td>\n",
       "      <td>94</td>\n",
       "      <td>31.6</td>\n",
       "      <td>161</td>\n",
       "      <td>7.6</td>\n",
       "      <td>39</td>\n",
       "      <td>-0.017565</td>\n",
       "      <td>-0.021254</td>\n",
       "      <td>0.158547</td>\n",
       "      <td>1</td>\n",
       "      <td>3</td>\n",
       "    </tr>\n",
       "    <tr>\n",
       "      <th>...</th>\n",
       "      <td>...</td>\n",
       "      <td>...</td>\n",
       "      <td>...</td>\n",
       "      <td>...</td>\n",
       "      <td>...</td>\n",
       "      <td>...</td>\n",
       "      <td>...</td>\n",
       "      <td>...</td>\n",
       "      <td>...</td>\n",
       "      <td>...</td>\n",
       "      <td>...</td>\n",
       "      <td>...</td>\n",
       "      <td>...</td>\n",
       "      <td>...</td>\n",
       "      <td>...</td>\n",
       "      <td>...</td>\n",
       "      <td>...</td>\n",
       "      <td>...</td>\n",
       "      <td>...</td>\n",
       "      <td>...</td>\n",
       "      <td>...</td>\n",
       "    </tr>\n",
       "    <tr>\n",
       "      <th>1370</th>\n",
       "      <td>Chourio, Jackson</td>\n",
       "      <td>694192</td>\n",
       "      <td>2024</td>\n",
       "      <td>20</td>\n",
       "      <td>528</td>\n",
       "      <td>573</td>\n",
       "      <td>145</td>\n",
       "      <td>91</td>\n",
       "      <td>29</td>\n",
       "      <td>4</td>\n",
       "      <td>...</td>\n",
       "      <td>100</td>\n",
       "      <td>23.9</td>\n",
       "      <td>98</td>\n",
       "      <td>3.7</td>\n",
       "      <td>15</td>\n",
       "      <td>0.026508</td>\n",
       "      <td>0.037195</td>\n",
       "      <td>0.739507</td>\n",
       "      <td>1</td>\n",
       "      <td>3</td>\n",
       "    </tr>\n",
       "    <tr>\n",
       "      <th>1371</th>\n",
       "      <td>Schanuel, Nolan</td>\n",
       "      <td>694384</td>\n",
       "      <td>2024</td>\n",
       "      <td>22</td>\n",
       "      <td>519</td>\n",
       "      <td>607</td>\n",
       "      <td>130</td>\n",
       "      <td>98</td>\n",
       "      <td>19</td>\n",
       "      <td>0</td>\n",
       "      <td>...</td>\n",
       "      <td>96</td>\n",
       "      <td>27.7</td>\n",
       "      <td>118</td>\n",
       "      <td>3.5</td>\n",
       "      <td>15</td>\n",
       "      <td>-0.921065</td>\n",
       "      <td>-0.664192</td>\n",
       "      <td>-1.777987</td>\n",
       "      <td>0</td>\n",
       "      <td>2</td>\n",
       "    </tr>\n",
       "    <tr>\n",
       "      <th>1372</th>\n",
       "      <td>Langford, Wyatt</td>\n",
       "      <td>694671</td>\n",
       "      <td>2024</td>\n",
       "      <td>22</td>\n",
       "      <td>499</td>\n",
       "      <td>557</td>\n",
       "      <td>126</td>\n",
       "      <td>81</td>\n",
       "      <td>25</td>\n",
       "      <td>4</td>\n",
       "      <td>...</td>\n",
       "      <td>112</td>\n",
       "      <td>22.0</td>\n",
       "      <td>85</td>\n",
       "      <td>9.0</td>\n",
       "      <td>35</td>\n",
       "      <td>-0.535425</td>\n",
       "      <td>-0.488845</td>\n",
       "      <td>0.545854</td>\n",
       "      <td>0</td>\n",
       "      <td>2</td>\n",
       "    </tr>\n",
       "    <tr>\n",
       "      <th>1373</th>\n",
       "      <td>Young, Jacob</td>\n",
       "      <td>696285</td>\n",
       "      <td>2024</td>\n",
       "      <td>24</td>\n",
       "      <td>468</td>\n",
       "      <td>521</td>\n",
       "      <td>120</td>\n",
       "      <td>92</td>\n",
       "      <td>24</td>\n",
       "      <td>1</td>\n",
       "      <td>...</td>\n",
       "      <td>58</td>\n",
       "      <td>23.1</td>\n",
       "      <td>87</td>\n",
       "      <td>5.0</td>\n",
       "      <td>19</td>\n",
       "      <td>-1.560126</td>\n",
       "      <td>-1.394803</td>\n",
       "      <td>-1.326129</td>\n",
       "      <td>0</td>\n",
       "      <td>1</td>\n",
       "    </tr>\n",
       "    <tr>\n",
       "      <th>1374</th>\n",
       "      <td>Merrill, Jackson</td>\n",
       "      <td>701538</td>\n",
       "      <td>2024</td>\n",
       "      <td>21</td>\n",
       "      <td>554</td>\n",
       "      <td>593</td>\n",
       "      <td>162</td>\n",
       "      <td>101</td>\n",
       "      <td>31</td>\n",
       "      <td>6</td>\n",
       "      <td>...</td>\n",
       "      <td>153</td>\n",
       "      <td>26.0</td>\n",
       "      <td>120</td>\n",
       "      <td>4.1</td>\n",
       "      <td>19</td>\n",
       "      <td>0.412148</td>\n",
       "      <td>0.417113</td>\n",
       "      <td>0.610405</td>\n",
       "      <td>1</td>\n",
       "      <td>3</td>\n",
       "    </tr>\n",
       "  </tbody>\n",
       "</table>\n",
       "<p>1375 rows × 93 columns</p>\n",
       "</div>"
      ],
      "text/plain": [
       "       name_last_first  player_id  year  player_age   ab   pa  hit  single  \\\n",
       "0        Hunter, Torii     116338  2015          39  521  567  125      81   \n",
       "1         Ortiz, David     120074  2015          39  528  614  144      70   \n",
       "2      Rodriguez, Alex     121347  2015          39  523  620  131      75   \n",
       "3      Ramirez, Aramis     133380  2015          37  475  516  117      68   \n",
       "4       Beltré, Adrian     134181  2015          36  567  619  163     109   \n",
       "...                ...        ...   ...         ...  ...  ...  ...     ...   \n",
       "1370  Chourio, Jackson     694192  2024          20  528  573  145      91   \n",
       "1371   Schanuel, Nolan     694384  2024          22  519  607  130      98   \n",
       "1372   Langford, Wyatt     694671  2024          22  499  557  126      81   \n",
       "1373      Young, Jacob     696285  2024          24  468  521  120      92   \n",
       "1374  Merrill, Jackson     701538  2024          21  554  593  162     101   \n",
       "\n",
       "      double  triple  ...  flyballs  linedrives_percent  linedrives  \\\n",
       "0         22       0  ...        95                20.9          88   \n",
       "1         37       0  ...       113                28.7         127   \n",
       "2         22       1  ...        96                24.9          96   \n",
       "3         31       1  ...       101                29.1         120   \n",
       "4         32       4  ...        94                31.6         161   \n",
       "...      ...     ...  ...       ...                 ...         ...   \n",
       "1370      29       4  ...       100                23.9          98   \n",
       "1371      19       0  ...        96                27.7         118   \n",
       "1372      25       4  ...       112                22.0          85   \n",
       "1373      24       1  ...        58                23.1          87   \n",
       "1374      31       6  ...       153                26.0         120   \n",
       "\n",
       "      popups_percent  popups  Znorm_on_base_plus_slg  Znorm_woba  \\\n",
       "0                7.1      30               -0.954120   -0.985661   \n",
       "1                8.1      36                1.370740    1.206173   \n",
       "2                6.5      25                0.588441    0.680133   \n",
       "3                8.7      36               -0.755791   -0.839539   \n",
       "4                7.6      39               -0.017565   -0.021254   \n",
       "...              ...     ...                     ...         ...   \n",
       "1370             3.7      15                0.026508    0.037195   \n",
       "1371             3.5      15               -0.921065   -0.664192   \n",
       "1372             9.0      35               -0.535425   -0.488845   \n",
       "1373             5.0      19               -1.560126   -1.394803   \n",
       "1374             4.1      19                0.412148    0.417113   \n",
       "\n",
       "      Znorm_hard_hit_percent  success_2  success_4  \n",
       "0                  -0.551516          0          2  \n",
       "1                   1.281737          1          4  \n",
       "2                   0.610405          1          3  \n",
       "3                  -0.603156          0          2  \n",
       "4                   0.158547          1          3  \n",
       "...                      ...        ...        ...  \n",
       "1370                0.739507          1          3  \n",
       "1371               -1.777987          0          2  \n",
       "1372                0.545854          0          2  \n",
       "1373               -1.326129          0          1  \n",
       "1374                0.610405          1          3  \n",
       "\n",
       "[1375 rows x 93 columns]"
      ]
     },
     "execution_count": 11,
     "metadata": {},
     "output_type": "execute_result"
    }
   ],
   "source": [
    "knn_data"
   ]
  },
  {
   "cell_type": "code",
   "execution_count": 12,
   "id": "990b93fb-aa94-46d5-b54d-162ff473f491",
   "metadata": {},
   "outputs": [],
   "source": [
    "def get_player_stats(df, player_id, year):\n",
    "    player_stats = df[(df['player_id'] == player_id) & (df['year'] == year)]\n",
    "    if not player_stats.empty:\n",
    "        return player_stats.index\n",
    "    else:\n",
    "        return None"
   ]
  },
  {
   "cell_type": "code",
   "execution_count": 13,
   "id": "6ac7fe2e-bf43-4ca8-94b0-a3117523e10f",
   "metadata": {},
   "outputs": [],
   "source": [
    "def manhattan_distance(data, player1_id, player1_year, player2):\n",
    "    player1 = data.loc[get_player_stats(data, player1_id, player1_year)].iloc[0]\n",
    "    woba = abs(player1['Znorm_woba'] - data.loc[player2, 'Znorm_woba'])\n",
    "    ops = abs(player1['Znorm_on_base_plus_slg'] - data.loc[player2, 'Znorm_on_base_plus_slg'])\n",
    "    hhp = abs(player1['Znorm_hard_hit_percent'] - data.loc[player2, 'Znorm_hard_hit_percent'])\n",
    "    return (woba + ops + hhp)"
   ]
  },
  {
   "cell_type": "code",
   "execution_count": 14,
   "id": "dd1ab189-a386-4f55-b163-6f4274724337",
   "metadata": {},
   "outputs": [],
   "source": [
    "def knn_predict_quad(data, k, player_id, player_year):\n",
    "    distances = []\n",
    "    for i in range(data.shape[0]):\n",
    "        dist = manhattan_distance(data, 701538, 2024, i)\n",
    "        success_level = data.iloc[i]['success_4']\n",
    "        distances.append([dist, success_level])\n",
    "\n",
    "    dist_sorted = sorted(distances, key=lambda x: x[0], reverse = True)\n",
    "    k_nearest_labels = [label for _, label in dist_sorted[:k]]\n",
    "    print(k_nearest_labels)\n",
    "    prediction = max(set(k_nearest_labels), key=k_nearest_labels.count)\n",
    "    return prediction"
   ]
  },
  {
   "cell_type": "code",
   "execution_count": 15,
   "id": "d23be21a-501d-410e-80ee-e2237d09e824",
   "metadata": {},
   "outputs": [],
   "source": [
    "def knn_predict_bin(data, k, player_id, player_year):\n",
    "    distances = []\n",
    "    for i in range(data.shape[0]):\n",
    "        dist = manhattan_distance(data, 701538, 2024, i)\n",
    "        success_level = data.iloc[i]['success_2']\n",
    "        distances.append([dist, success_level])\n",
    "\n",
    "    dist_sorted = sorted(distances, key=lambda x: x[0], reverse = True)\n",
    "    k_nearest_labels = [label for _, label in dist_sorted[:k]]\n",
    "    print(k_nearest_labels)\n",
    "    prediction = max(set(k_nearest_labels), key=k_nearest_labels.count)\n",
    "    return prediction"
   ]
  },
  {
   "cell_type": "code",
   "execution_count": 16,
   "id": "f1aa9865-ea53-4af0-9ab3-e5b7ab7e560a",
   "metadata": {},
   "outputs": [],
   "source": [
    "k = int(math.sqrt(knn_data.shape[0]))"
   ]
  },
  {
   "cell_type": "code",
   "execution_count": 17,
   "id": "872bc7bb-8819-442d-ba7b-e70a68d61d0d",
   "metadata": {},
   "outputs": [
    {
     "name": "stdout",
     "output_type": "stream",
     "text": [
      "[4, 1, 4, 4, 1, 1, 1, 1, 1, 1, 1, 1, 1, 1, 1, 1, 1, 1, 1, 1, 4, 1, 1, 1, 1, 1, 1, 1, 1, 1, 1, 1, 1, 1, 4, 1, 1]\n",
      "Success level: 1\n"
     ]
    }
   ],
   "source": [
    "# knn for Jackson Merrill, 2024 using Manhattan quarters\n",
    "# Expected Success Level: 4\n",
    "prediction = knn_predict_quad(knn_data, k, 701538, 2024)\n",
    "print(f'Success level: {prediction}')"
   ]
  },
  {
   "cell_type": "code",
   "execution_count": 18,
   "id": "a48541ad-ad2c-4248-bac0-dbb46d11ef94",
   "metadata": {},
   "outputs": [
    {
     "name": "stdout",
     "output_type": "stream",
     "text": [
      "[4, 1, 4, 4, 1, 1, 1, 1, 1, 1, 1, 1, 1, 1, 1, 1, 1, 1, 1, 1, 4, 1, 1, 1, 1, 1, 1, 1, 1, 1, 1, 1, 1, 1, 4, 1, 1, 4, 4, 1, 1, 4, 1, 4, 4, 4, 1, 1, 1, 1]\n",
      "Success level: 1\n"
     ]
    }
   ],
   "source": [
    "# knn for Jackson Merrill, 2024 using Manhattan quarters\n",
    "# Expected Success Level: 4\n",
    "prediction = knn_predict_quad(knn_data, 50, 701538, 2024)\n",
    "print(f'Success level: {prediction}')"
   ]
  },
  {
   "cell_type": "code",
   "execution_count": 19,
   "id": "9bcaf2bd-c6e1-4f6f-a935-434dd215089e",
   "metadata": {},
   "outputs": [
    {
     "name": "stdout",
     "output_type": "stream",
     "text": [
      "[1, 0, 1, 1, 0, 0, 0, 0, 0, 0, 0, 0, 0, 0, 0, 0, 0, 0, 0, 0, 1, 0, 0, 0, 0, 0, 0, 0, 0, 0, 0, 0, 0, 0, 1, 0, 0]\n",
      "Success level: 0\n"
     ]
    }
   ],
   "source": [
    "# knn for Jackson Merrill, 2024 using Manhattan binary\n",
    "# Expected Success Level: 1\n",
    "prediction = knn_predict_bin(knn_data, k, 701538, 2024)\n",
    "print(f'Success level: {prediction}')"
   ]
  },
  {
   "cell_type": "code",
   "execution_count": 20,
   "id": "da447499-86bf-4268-8a72-5fb8a272136f",
   "metadata": {},
   "outputs": [
    {
     "name": "stdout",
     "output_type": "stream",
     "text": [
      "[1, 0, 1, 1, 0, 0, 0, 0, 0, 0, 0, 0, 0, 0, 0, 0, 0, 0, 0, 0, 1, 0, 0, 0, 0, 0, 0, 0, 0, 0, 0, 0, 0, 0, 1, 0, 0, 1, 1, 0, 0, 1, 0, 1, 1, 1, 0, 0, 0, 0]\n",
      "Success level: 0\n"
     ]
    }
   ],
   "source": [
    "# knn for Jackson Merrill, 2024 using Manhattan binary\n",
    "# Expected Success Level: 1\n",
    "prediction = knn_predict_bin(knn_data, 50, 701538, 2024)\n",
    "print(f'Success level: {prediction}')"
   ]
  },
  {
   "cell_type": "code",
   "execution_count": 21,
   "id": "2ebb6285-158c-4fb9-bc11-180c738f319c",
   "metadata": {},
   "outputs": [
    {
     "name": "stdout",
     "output_type": "stream",
     "text": [
      "[4, 1, 4, 4, 1, 1, 1, 1, 1, 1, 1, 1, 1, 1, 1, 1, 1, 1, 1, 1, 4, 1, 1, 1, 1, 1, 1, 1, 1, 1, 1, 1, 1, 1, 4, 1, 1]\n",
      "Success level: 1\n"
     ]
    }
   ],
   "source": [
    "# knn for Jackson Chourio, 2024 using Manhattan quarters\n",
    "# Expected Success Level: 3\n",
    "prediction = knn_predict_quad(knn_data, k, 701538, 2024)\n",
    "print(f'Success level: {prediction}')"
   ]
  },
  {
   "cell_type": "code",
   "execution_count": 22,
   "id": "36fe0652-6f66-4a71-872b-7d0d9f9b0f63",
   "metadata": {},
   "outputs": [
    {
     "name": "stdout",
     "output_type": "stream",
     "text": [
      "[4, 1, 4, 4, 1, 1, 1, 1, 1, 1, 1, 1, 1, 1, 1, 1, 1, 1, 1, 1, 4, 1, 1, 1, 1, 1, 1, 1, 1, 1, 1, 1, 1, 1, 4, 1, 1, 4, 4, 1, 1, 4, 1, 4, 4, 4, 1, 1, 1, 1]\n",
      "Success level: 1\n"
     ]
    }
   ],
   "source": [
    "# knn for Jackson Chourio, 2024 using Manhattan quarters\n",
    "# Expected Success Level: 3\n",
    "prediction = knn_predict_quad(knn_data, 50, 701538, 2024)\n",
    "print(f'Success level: {prediction}')"
   ]
  },
  {
   "cell_type": "code",
   "execution_count": 23,
   "id": "a89ccacf-2d9e-456e-9de2-35303d440dd3",
   "metadata": {},
   "outputs": [
    {
     "name": "stdout",
     "output_type": "stream",
     "text": [
      "[1, 0, 1, 1, 0, 0, 0, 0, 0, 0, 0, 0, 0, 0, 0, 0, 0, 0, 0, 0, 1, 0, 0, 0, 0, 0, 0, 0, 0, 0, 0, 0, 0, 0, 1, 0, 0]\n",
      "Success level: 0\n"
     ]
    }
   ],
   "source": [
    "# knn for Jackson Chourio, 2024 using Manhattan binary\n",
    "# Expected Success Level: 1\n",
    "prediction = knn_predict_bin(knn_data, k, 701538, 2024)\n",
    "print(f'Success level: {prediction}')"
   ]
  },
  {
   "cell_type": "code",
   "execution_count": 24,
   "id": "364d885c-7376-463c-8f0f-94c97992ae7d",
   "metadata": {},
   "outputs": [
    {
     "name": "stdout",
     "output_type": "stream",
     "text": [
      "[1, 0, 1, 1, 0, 0, 0, 0, 0, 0, 0, 0, 0, 0, 0, 0, 0, 0, 0, 0, 1, 0, 0, 0, 0, 0, 0, 0, 0, 0, 0, 0, 0, 0, 1, 0, 0, 1, 1, 0, 0, 1, 0, 1, 1, 1, 0, 0, 0, 0]\n",
      "Success level: 0\n"
     ]
    }
   ],
   "source": [
    "# knn for Jackson Chourio, 2024 using Manhattan binary\n",
    "# Expected Success Level: 1\n",
    "prediction = knn_predict_bin(knn_data, 50, 701538, 2024)\n",
    "print(f'Success level: {prediction}')"
   ]
  },
  {
   "cell_type": "code",
   "execution_count": 25,
   "id": "cf9f42e5-3242-4777-af02-a0ec74ea8e5b",
   "metadata": {},
   "outputs": [
    {
     "name": "stdout",
     "output_type": "stream",
     "text": [
      "[4, 1, 4, 4, 1, 1, 1, 1, 1, 1, 1, 1, 1, 1, 1, 1, 1, 1, 1, 1, 4, 1, 1, 1, 1, 1, 1, 1, 1, 1, 1, 1, 1, 1, 4, 1, 1]\n",
      "Success level: 1\n"
     ]
    }
   ],
   "source": [
    "# knn for Robbie Grossman, 2021 using Manhattan quarters\n",
    "# Expected Success Level: 2\n",
    "prediction = knn_predict_quad(knn_data, k, 543257, 2021)\n",
    "print(f'Success level: {prediction}')"
   ]
  },
  {
   "cell_type": "code",
   "execution_count": 26,
   "id": "3af3fe6d-7829-4fcd-9504-cf4e5b507451",
   "metadata": {},
   "outputs": [
    {
     "name": "stdout",
     "output_type": "stream",
     "text": [
      "[4, 1, 4, 4, 1, 1, 1, 1, 1, 1, 1, 1, 1, 1, 1, 1, 1, 1, 1, 1, 4, 1, 1, 1, 1, 1, 1, 1, 1, 1, 1, 1, 1, 1, 4, 1, 1, 4, 4, 1, 1, 4, 1, 4, 4, 4, 1, 1, 1, 1]\n",
      "Success level: 1\n"
     ]
    }
   ],
   "source": [
    "# knn for Robbie Grossman, 2021 using Manhattan quarters\n",
    "# Expected Success Level: 2\n",
    "prediction = knn_predict_quad(knn_data, 50, 543257, 2021)\n",
    "print(f'Success level: {prediction}')"
   ]
  },
  {
   "cell_type": "code",
   "execution_count": 27,
   "id": "0a238e43-36c2-4e77-b95d-5172b11f869a",
   "metadata": {},
   "outputs": [
    {
     "name": "stdout",
     "output_type": "stream",
     "text": [
      "[1, 0, 1, 1, 0, 0, 0, 0, 0, 0, 0, 0, 0, 0, 0, 0, 0, 0, 0, 0, 1, 0, 0, 0, 0, 0, 0, 0, 0, 0, 0, 0, 0, 0, 1, 0, 0]\n",
      "Success level: 0\n"
     ]
    }
   ],
   "source": [
    "# knn for Robbie Grossman, 2021 using Manhattan binary\n",
    "# Expected Success Level: 0\n",
    "prediction = knn_predict_bin(knn_data, k, 543257, 2021)\n",
    "print(f'Success level: {prediction}')"
   ]
  },
  {
   "cell_type": "code",
   "execution_count": 28,
   "id": "3a41a882-e989-4892-9204-4697bf9395fa",
   "metadata": {},
   "outputs": [
    {
     "name": "stdout",
     "output_type": "stream",
     "text": [
      "[1, 0, 1, 1, 0, 0, 0, 0, 0, 0, 0, 0, 0, 0, 0, 0, 0, 0, 0, 0, 1, 0, 0, 0, 0, 0, 0, 0, 0, 0, 0, 0, 0, 0, 1, 0, 0, 1, 1, 0, 0, 1, 0, 1, 1, 1, 0, 0, 0, 0]\n",
      "Success level: 0\n"
     ]
    }
   ],
   "source": [
    "# knn for Robbie Grossman, 2021 using Manhattan binary\n",
    "# Expected Success Level: 0\n",
    "prediction = knn_predict_bin(knn_data, 50, 543257, 2021)\n",
    "print(f'Success level: {prediction}')"
   ]
  },
  {
   "cell_type": "code",
   "execution_count": 29,
   "id": "0c3a4393-ab78-43ba-b662-54a889857215",
   "metadata": {},
   "outputs": [
    {
     "data": {
      "text/html": [
       "<div>\n",
       "<style scoped>\n",
       "    .dataframe tbody tr th:only-of-type {\n",
       "        vertical-align: middle;\n",
       "    }\n",
       "\n",
       "    .dataframe tbody tr th {\n",
       "        vertical-align: top;\n",
       "    }\n",
       "\n",
       "    .dataframe thead th {\n",
       "        text-align: right;\n",
       "    }\n",
       "</style>\n",
       "<table border=\"1\" class=\"dataframe\">\n",
       "  <thead>\n",
       "    <tr style=\"text-align: right;\">\n",
       "      <th></th>\n",
       "      <th>name_last_first</th>\n",
       "      <th>player_id</th>\n",
       "      <th>year</th>\n",
       "      <th>player_age</th>\n",
       "      <th>ab</th>\n",
       "      <th>pa</th>\n",
       "      <th>hit</th>\n",
       "      <th>single</th>\n",
       "      <th>double</th>\n",
       "      <th>triple</th>\n",
       "      <th>...</th>\n",
       "      <th>flyballs</th>\n",
       "      <th>linedrives_percent</th>\n",
       "      <th>linedrives</th>\n",
       "      <th>popups_percent</th>\n",
       "      <th>popups</th>\n",
       "      <th>Znorm_on_base_plus_slg</th>\n",
       "      <th>Znorm_woba</th>\n",
       "      <th>Znorm_hard_hit_percent</th>\n",
       "      <th>success_2</th>\n",
       "      <th>success_4</th>\n",
       "    </tr>\n",
       "  </thead>\n",
       "  <tbody>\n",
       "    <tr>\n",
       "      <th>882</th>\n",
       "      <td>Grossman, Robbie</td>\n",
       "      <td>543257</td>\n",
       "      <td>2021</td>\n",
       "      <td>31</td>\n",
       "      <td>557</td>\n",
       "      <td>671</td>\n",
       "      <td>133</td>\n",
       "      <td>84</td>\n",
       "      <td>23</td>\n",
       "      <td>3</td>\n",
       "      <td>...</td>\n",
       "      <td>147</td>\n",
       "      <td>26.8</td>\n",
       "      <td>110</td>\n",
       "      <td>7.3</td>\n",
       "      <td>30</td>\n",
       "      <td>-0.18284</td>\n",
       "      <td>-0.021254</td>\n",
       "      <td>-0.654797</td>\n",
       "      <td>0</td>\n",
       "      <td>2</td>\n",
       "    </tr>\n",
       "  </tbody>\n",
       "</table>\n",
       "<p>1 rows × 93 columns</p>\n",
       "</div>"
      ],
      "text/plain": [
       "      name_last_first  player_id  year  player_age   ab   pa  hit  single  \\\n",
       "882  Grossman, Robbie     543257  2021          31  557  671  133      84   \n",
       "\n",
       "     double  triple  ...  flyballs  linedrives_percent  linedrives  \\\n",
       "882      23       3  ...       147                26.8         110   \n",
       "\n",
       "     popups_percent  popups  Znorm_on_base_plus_slg  Znorm_woba  \\\n",
       "882             7.3      30                -0.18284   -0.021254   \n",
       "\n",
       "     Znorm_hard_hit_percent  success_2  success_4  \n",
       "882               -0.654797          0          2  \n",
       "\n",
       "[1 rows x 93 columns]"
      ]
     },
     "execution_count": 29,
     "metadata": {},
     "output_type": "execute_result"
    }
   ],
   "source": [
    "knn_data.loc[(knn_data['player_id'] == 543257) & (knn_data['year'] == 2021)]"
   ]
  },
  {
   "cell_type": "code",
   "execution_count": 37,
   "id": "a3446c7e-12d5-4f67-b2c8-9a146db3d0fd",
   "metadata": {},
   "outputs": [
    {
     "name": "stdout",
     "output_type": "stream",
     "text": [
      "{1: 156, 2: 557, 3: 480, 4: 182}\n"
     ]
    }
   ],
   "source": [
    "counts = {1: 0, 2: 0, 3: 0, 4: 0}\n",
    "for i in range(knn_data.shape[0]):\n",
    "    s_level = knn_data.iloc[i]['success_4']\n",
    "    if s_level in counts.keys():\n",
    "        counts[s_level] += 1\n",
    "\n",
    "print(counts)"
   ]
  },
  {
   "cell_type": "code",
   "execution_count": 38,
   "id": "b06b228b-1289-4fe5-96c2-9e2b16a5b09e",
   "metadata": {},
   "outputs": [],
   "source": [
    "import numpy as np\n",
    "\n",
    "# Extract normalized features\n",
    "features = knn_data[['Znorm_woba', 'Znorm_on_base_plus_slg', 'Znorm_hard_hit_percent']]\n",
    "covariance_matrix = np.cov(features.T)  # Covariance matrix\n",
    "inverse_covariance_matrix = np.linalg.inv(covariance_matrix)  # Inverse covariance matrix"
   ]
  },
  {
   "cell_type": "code",
   "execution_count": 39,
   "id": "256d49c9-bb17-4c0d-b909-edbc9b0bd9bc",
   "metadata": {},
   "outputs": [],
   "source": [
    "def mahalanobis_distance(data, player1_id, player1_year, player2, inv_cov_matrix):\n",
    "    player1_stats = data.loc[get_player_stats(data, player1_id, player1_year)].iloc[0]\n",
    "    player2_stats = data.loc[player2]\n",
    "    diff = np.array([\n",
    "        player1_stats['Znorm_woba'] - player2_stats['Znorm_woba'],\n",
    "        player1_stats['Znorm_on_base_plus_slg'] - player2_stats['Znorm_on_base_plus_slg'],\n",
    "        player1_stats['Znorm_hard_hit_percent'] - player2_stats['Znorm_hard_hit_percent']\n",
    "    ])\n",
    "    mahalanobis_dist = np.sqrt(np.dot(np.dot(diff.T, inv_cov_matrix), diff))\n",
    "    return mahalanobis_dist"
   ]
  },
  {
   "cell_type": "code",
   "execution_count": 40,
   "id": "0f9f55a7-d62d-476e-acb7-99fe1945c6f5",
   "metadata": {},
   "outputs": [],
   "source": [
    "def knn_predict2_quad(data, k, player_id, player_year, inv_cov_matrix):\n",
    "    distances = []\n",
    "    for i in range(data.shape[0]):\n",
    "        dist = mahalanobis_distance(data, player_id, player_year, i, inv_cov_matrix)\n",
    "        success_level = data.iloc[i]['success_4']\n",
    "        distances.append([dist, success_level])\n",
    "\n",
    "    dist_sorted = sorted(distances, key=lambda x: x[0], reverse = True)\n",
    "    k_nearest_labels = [label for _, label in dist_sorted[:k]]\n",
    "    print(k_nearest_labels)\n",
    "    prediction = max(set(k_nearest_labels), key=k_nearest_labels.count)\n",
    "    return prediction"
   ]
  },
  {
   "cell_type": "code",
   "execution_count": 41,
   "id": "42768bf1-74b9-49c7-92b0-84a1568cecc4",
   "metadata": {},
   "outputs": [],
   "source": [
    "def knn_predict2_bin(data, k, player_id, player_year, inv_cov_matrix):\n",
    "    distances = []\n",
    "    for i in range(data.shape[0]):\n",
    "        dist = mahalanobis_distance(data, player_id, player_year, i, inv_cov_matrix)\n",
    "        success_level = data.iloc[i]['success_2']\n",
    "        distances.append([dist, success_level])\n",
    "\n",
    "    dist_sorted = sorted(distances, key=lambda x: x[0], reverse = True)\n",
    "    k_nearest_labels = [label for _, label in dist_sorted[:k]]\n",
    "    print(k_nearest_labels)\n",
    "    prediction = max(set(k_nearest_labels), key=k_nearest_labels.count)\n",
    "    return prediction"
   ]
  },
  {
   "cell_type": "code",
   "execution_count": 42,
   "id": "188a8eb3-8d74-427d-9604-7a6d9bbba151",
   "metadata": {},
   "outputs": [
    {
     "name": "stdout",
     "output_type": "stream",
     "text": [
      "[1, 4, 1, 2, 4, 1, 1, 4, 4, 2, 1, 1, 1, 1, 1, 2, 4, 4, 1, 4, 1, 2, 2, 1, 1, 1, 1, 4, 1, 4, 1, 1, 2, 1, 1, 1, 2]\n",
      "Success level: 1\n"
     ]
    }
   ],
   "source": [
    "# knn for Jackson Merrill, 2024 using Mahalanobis quarter\n",
    "# Expected Success Level: 4\n",
    "prediction = knn_predict2_quad(knn_data, k, 701538, 2024, inverse_covariance_matrix)\n",
    "print(f'Success level: {prediction}')"
   ]
  },
  {
   "cell_type": "code",
   "execution_count": 43,
   "id": "9f06cd07-43c5-4b78-963e-dc2e1c3d2820",
   "metadata": {},
   "outputs": [
    {
     "name": "stdout",
     "output_type": "stream",
     "text": [
      "[1, 4, 1, 2, 4, 1, 1, 4, 4, 2, 1, 1, 1, 1, 1, 2, 4, 4, 1, 4, 1, 2, 2, 1, 1, 1, 1, 4, 1, 4, 1, 1, 2, 1, 1, 1, 2, 4, 2, 4, 1, 2, 1, 3, 4, 4, 1, 1, 1, 1]\n",
      "Success level: 1\n"
     ]
    }
   ],
   "source": [
    "# knn for Jackson Merrill, 2024 using Mahalanobis quarter\n",
    "# Expected Success Level: 4\n",
    "prediction = knn_predict2_quad(knn_data, 50, 701538, 2024, inverse_covariance_matrix)\n",
    "print(f'Success level: {prediction}')"
   ]
  },
  {
   "cell_type": "code",
   "execution_count": 44,
   "id": "33df0aba-1fdd-4320-8d73-64652f63f83b",
   "metadata": {},
   "outputs": [
    {
     "name": "stdout",
     "output_type": "stream",
     "text": [
      "[0, 1, 0, 0, 1, 0, 0, 1, 1, 0, 0, 0, 0, 0, 0, 0, 1, 1, 0, 1, 0, 0, 0, 0, 0, 0, 0, 1, 0, 1, 0, 0, 0, 0, 0, 0, 0]\n",
      "Success level: 0\n"
     ]
    }
   ],
   "source": [
    "# knn for Jackson Merrill, 2024 using Mahalanobis binary\n",
    "# Expected Success Level: 1\n",
    "prediction = knn_predict2_bin(knn_data, k, 701538, 2024, inverse_covariance_matrix)\n",
    "print(f'Success level: {prediction}')"
   ]
  },
  {
   "cell_type": "code",
   "execution_count": 45,
   "id": "4f844892-bd91-48ea-8f59-3378f13b7b9f",
   "metadata": {},
   "outputs": [
    {
     "name": "stdout",
     "output_type": "stream",
     "text": [
      "[0, 1, 0, 0, 1, 0, 0, 1, 1, 0, 0, 0, 0, 0, 0, 0, 1, 1, 0, 1, 0, 0, 0, 0, 0, 0, 0, 1, 0, 1, 0, 0, 0, 0, 0, 0, 0, 1, 0, 1, 0, 0, 0, 1, 1, 1, 0, 0, 0, 0]\n",
      "Success level: 0\n"
     ]
    }
   ],
   "source": [
    "# knn for Jackson Merrill, 2024 using Mahalanobis quarter\n",
    "# Expected Success Level: 1\n",
    "prediction = knn_predict2_bin(knn_data, 50, 701538, 2024, inverse_covariance_matrix)\n",
    "print(f'Success level: {prediction}')"
   ]
  },
  {
   "cell_type": "code",
   "execution_count": 55,
   "id": "27b3bc35-d6e5-45b4-a632-f535db7a51e4",
   "metadata": {},
   "outputs": [
    {
     "name": "stdout",
     "output_type": "stream",
     "text": [
      "[1, 4, 1, 2, 4, 1, 1, 4, 4, 2, 1, 1, 1, 1, 1, 2, 4, 4, 1, 4, 1, 2, 2, 1, 1, 1, 1, 4, 1, 4, 1, 1, 2, 1, 1, 1, 2]\n",
      "Success level: 1\n"
     ]
    }
   ],
   "source": [
    "# knn for Jackson Chourio, 2024 using Mahalanobis quarters\n",
    "# Expected Success Level: 3\n",
    "prediction = knn_predict2_quad(knn_data, k, 701538, 2024, inverse_covariance_matrix)\n",
    "print(f'Success level: {prediction}')"
   ]
  },
  {
   "cell_type": "code",
   "execution_count": 56,
   "id": "0d60b33c-4615-4d9c-a99f-d26118e7e498",
   "metadata": {},
   "outputs": [
    {
     "name": "stdout",
     "output_type": "stream",
     "text": [
      "[1, 4, 1, 2, 4, 1, 1, 4, 4, 2, 1, 1, 1, 1, 1, 2, 4, 4, 1, 4, 1, 2, 2, 1, 1, 1, 1, 4, 1, 4, 1, 1, 2, 1, 1, 1, 2, 4, 2, 4, 1, 2, 1, 3, 4, 4, 1, 1, 1, 1]\n",
      "Success level: 1\n"
     ]
    }
   ],
   "source": [
    "# knn for Jackson Chourio, 2024 using Mahalanobis quarters\n",
    "# Expected Success Level: 3\n",
    "prediction = knn_predict2_quad(knn_data, 50, 701538, 2024, inverse_covariance_matrix)\n",
    "print(f'Success level: {prediction}')"
   ]
  },
  {
   "cell_type": "code",
   "execution_count": 57,
   "id": "fba0a22f-f391-474e-bcbe-4b5edd999e96",
   "metadata": {},
   "outputs": [
    {
     "name": "stdout",
     "output_type": "stream",
     "text": [
      "[0, 1, 0, 0, 1, 0, 0, 1, 1, 0, 0, 0, 0, 0, 0, 0, 1, 1, 0, 1, 0, 0, 0, 0, 0, 0, 0, 1, 0, 1, 0, 0, 0, 0, 0, 0, 0]\n",
      "Success level: 0\n"
     ]
    }
   ],
   "source": [
    "# knn for Jackson Chourio, 2024 using Mahalanobis binary\n",
    "# Expected Success Level: 1\n",
    "prediction = knn_predict2_bin(knn_data, k, 701538, 2024, inverse_covariance_matrix)\n",
    "print(f'Success level: {prediction}')"
   ]
  },
  {
   "cell_type": "code",
   "execution_count": 58,
   "id": "d4944720-b66b-4a4a-b2c9-81200fcf0cbc",
   "metadata": {},
   "outputs": [
    {
     "name": "stdout",
     "output_type": "stream",
     "text": [
      "[0, 1, 0, 0, 1, 0, 0, 1, 1, 0, 0, 0, 0, 0, 0, 0, 1, 1, 0, 1, 0, 0, 0, 0, 0, 0, 0, 1, 0, 1, 0, 0, 0, 0, 0, 0, 0, 1, 0, 1, 0, 0, 0, 1, 1, 1, 0, 0, 0, 0]\n",
      "Success level: 0\n"
     ]
    }
   ],
   "source": [
    "# knn for Jackson Chourio, 2024 using Mahalanobis binary\n",
    "# Expected Success Level: 1\n",
    "prediction = knn_predict2_bin(knn_data, 50, 701538, 2024, inverse_covariance_matrix)\n",
    "print(f'Success level: {prediction}')"
   ]
  },
  {
   "cell_type": "code",
   "execution_count": 59,
   "id": "aa1463ab-3f3b-4f82-a43c-708040fd7247",
   "metadata": {},
   "outputs": [
    {
     "name": "stdout",
     "output_type": "stream",
     "text": [
      "[4, 4, 4, 4, 1, 4, 4, 4, 3, 1, 4, 4, 1, 1, 3, 2, 4, 4, 1, 1, 1, 1, 3, 2, 4, 4, 4, 2, 4, 3, 3, 4, 3, 2, 4, 4, 4]\n",
      "Success level: 4\n"
     ]
    }
   ],
   "source": [
    "# knn for Robbie Grossman, 2021 using Mahalanobis quarters\n",
    "# Expected Success Level: 2\n",
    "prediction = knn_predict2_quad(knn_data, k, 543257, 2021, inverse_covariance_matrix)\n",
    "print(f'Success level: {prediction}')"
   ]
  },
  {
   "cell_type": "code",
   "execution_count": 60,
   "id": "5ee43612-b96e-447b-b063-84865c54294d",
   "metadata": {},
   "outputs": [
    {
     "name": "stdout",
     "output_type": "stream",
     "text": [
      "[4, 4, 4, 4, 1, 4, 4, 4, 3, 1, 4, 4, 1, 1, 3, 2, 4, 4, 1, 1, 1, 1, 3, 2, 4, 4, 4, 2, 4, 3, 3, 4, 3, 2, 4, 4, 4, 4, 4, 4, 3, 4, 4, 3, 4, 1, 2, 1, 1, 4]\n",
      "Success level: 4\n"
     ]
    }
   ],
   "source": [
    "# knn for Robbie Grossman, 2021 using Mahalanobis quarters\n",
    "# Expected Success Level: 2\n",
    "prediction = knn_predict2_quad(knn_data, 50, 543257, 2021, inverse_covariance_matrix)\n",
    "print(f'Success level: {prediction}')"
   ]
  },
  {
   "cell_type": "code",
   "execution_count": 61,
   "id": "86d5eda1-5d95-49f4-a092-4fa58102cbd9",
   "metadata": {},
   "outputs": [
    {
     "name": "stdout",
     "output_type": "stream",
     "text": [
      "[1, 1, 1, 1, 0, 1, 1, 1, 1, 0, 1, 1, 0, 0, 1, 0, 1, 1, 0, 0, 0, 0, 1, 0, 1, 1, 1, 0, 1, 1, 1, 1, 1, 0, 1, 1, 1]\n",
      "Success level: 1\n"
     ]
    }
   ],
   "source": [
    "# knn for Robbie Grossman, 2021 using Mahalanobis binary\n",
    "# Expected Success Level: 0\n",
    "prediction = knn_predict2_bin(knn_data, k, 543257, 2021, inverse_covariance_matrix)\n",
    "print(f'Success level: {prediction}')"
   ]
  },
  {
   "cell_type": "code",
   "execution_count": 62,
   "id": "385df98a-d799-4fb7-b1b1-d739fce4c5ab",
   "metadata": {},
   "outputs": [
    {
     "name": "stdout",
     "output_type": "stream",
     "text": [
      "[1, 1, 1, 1, 0, 1, 1, 1, 1, 0, 1, 1, 0, 0, 1, 0, 1, 1, 0, 0, 0, 0, 1, 0, 1, 1, 1, 0, 1, 1, 1, 1, 1, 0, 1, 1, 1, 1, 1, 1, 1, 1, 1, 1, 1, 0, 0, 0, 0, 1]\n",
      "Success level: 1\n"
     ]
    }
   ],
   "source": [
    "# knn for Robbie Grossman, 2021 using Mahalanobis binary\n",
    "# Expected Success Level: 0\n",
    "prediction = knn_predict2_bin(knn_data, 50, 543257, 2021, inverse_covariance_matrix)\n",
    "print(f'Success level: {prediction}')"
   ]
  },
  {
   "cell_type": "code",
   "execution_count": null,
   "id": "6b77d177-26f0-4f42-90e6-9cee924880f2",
   "metadata": {},
   "outputs": [],
   "source": []
  }
 ],
 "metadata": {
  "kernelspec": {
   "display_name": "Python 3 (ipykernel)",
   "language": "python",
   "name": "python3"
  },
  "language_info": {
   "codemirror_mode": {
    "name": "ipython",
    "version": 3
   },
   "file_extension": ".py",
   "mimetype": "text/x-python",
   "name": "python",
   "nbconvert_exporter": "python",
   "pygments_lexer": "ipython3",
   "version": "3.11.7"
  }
 },
 "nbformat": 4,
 "nbformat_minor": 5
}
