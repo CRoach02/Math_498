{
 "cells": [
  {
   "cell_type": "code",
   "execution_count": 1,
   "id": "2a78cc0e-b03a-4bbd-ac46-e0b6bc746743",
   "metadata": {},
   "outputs": [],
   "source": [
    "import pandas as pd\n",
    "import matplotlib.pyplot as plt\n",
    "import numpy as np\n",
    "import seaborn as sns"
   ]
  },
  {
   "cell_type": "code",
   "execution_count": 2,
   "id": "16a961ad-823e-4700-86ee-325f20ea75e3",
   "metadata": {},
   "outputs": [],
   "source": [
    "batting_data = pd.read_csv('mlb_batting.csv')"
   ]
  },
  {
   "cell_type": "code",
   "execution_count": 3,
   "id": "7326e013-e144-43f6-92f4-dd7ab9c6fe1f",
   "metadata": {},
   "outputs": [],
   "source": [
    "pitching_data = pd.read_csv('mlb_pitching_stats.csv')"
   ]
  },
  {
   "cell_type": "code",
   "execution_count": 4,
   "id": "c785b7ad-3bba-436d-ae71-80766e56d83e",
   "metadata": {
    "scrolled": true
   },
   "outputs": [
    {
     "data": {
      "text/plain": [
       "<bound method DataFrame.info of        name_last_first  player_id  year  player_age   ab   pa  hit  single  \\\n",
       "0        Hunter, Torii     116338  2015          39  521  567  125      81   \n",
       "1         Ortiz, David     120074  2015          39  528  614  144      70   \n",
       "2      Rodriguez, Alex     121347  2015          39  523  620  131      75   \n",
       "3      Ramirez, Aramis     133380  2015          37  475  516  117      68   \n",
       "4       Beltré, Adrian     134181  2015          36  567  619  163     109   \n",
       "...                ...        ...   ...         ...  ...  ...  ...     ...   \n",
       "1370  Chourio, Jackson     694192  2024          20  528  573  145      91   \n",
       "1371   Schanuel, Nolan     694384  2024          22  519  607  130      98   \n",
       "1372   Langford, Wyatt     694671  2024          22  499  557  126      81   \n",
       "1373      Young, Jacob     696285  2024          24  468  521  120      92   \n",
       "1374  Merrill, Jackson     701538  2024          21  554  593  162     101   \n",
       "\n",
       "      double  triple  ...  opposite_percent  batted_ball  groundballs_percent  \\\n",
       "0         22       0  ...              24.2          421                 49.4   \n",
       "1         37       0  ...              21.7          442                 37.6   \n",
       "2         22       1  ...              16.6          385                 43.6   \n",
       "3         31       1  ...              24.8          412                 37.6   \n",
       "4         32       4  ...              23.3          510                 42.4   \n",
       "...      ...     ...  ...               ...          ...                  ...   \n",
       "1370      29       4  ...              24.1          410                 48.0   \n",
       "1371      19       0  ...              23.0          426                 46.2   \n",
       "1372      25       4  ...              22.0          387                 40.1   \n",
       "1373      24       1  ...              36.9          377                 56.5   \n",
       "1374      31       6  ...              26.0          462                 36.8   \n",
       "\n",
       "      groundballs  flyballs_percent  flyballs  linedrives_percent  linedrives  \\\n",
       "0             208              22.6        95                20.9          88   \n",
       "1             166              25.6       113                28.7         127   \n",
       "2             168              24.9        96                24.9          96   \n",
       "3             155              24.5       101                29.1         120   \n",
       "4             216              18.4        94                31.6         161   \n",
       "...           ...               ...       ...                 ...         ...   \n",
       "1370          197              24.4       100                23.9          98   \n",
       "1371          197              22.5        96                27.7         118   \n",
       "1372          155              28.9       112                22.0          85   \n",
       "1373          213              15.4        58                23.1          87   \n",
       "1374          170              33.1       153                26.0         120   \n",
       "\n",
       "      popups_percent  popups  \n",
       "0                7.1      30  \n",
       "1                8.1      36  \n",
       "2                6.5      25  \n",
       "3                8.7      36  \n",
       "4                7.6      39  \n",
       "...              ...     ...  \n",
       "1370             3.7      15  \n",
       "1371             3.5      15  \n",
       "1372             9.0      35  \n",
       "1373             5.0      19  \n",
       "1374             4.1      19  \n",
       "\n",
       "[1375 rows x 88 columns]>"
      ]
     },
     "execution_count": 4,
     "metadata": {},
     "output_type": "execute_result"
    }
   ],
   "source": [
    "batting_data.info"
   ]
  },
  {
   "cell_type": "code",
   "execution_count": 5,
   "id": "3b4cdd73-7831-4ab6-8977-93e813d9c1a6",
   "metadata": {
    "scrolled": true
   },
   "outputs": [
    {
     "data": {
      "text/plain": [
       "<bound method DataFrame.info of        player_name_LF  player_id  year  player_age  p_game  p_formatted_ip  \\\n",
       "0    Wainwright, Adam     425794  2021          39      32           206.1   \n",
       "1       Greinke, Zack     425844  2021          37      30           171.0   \n",
       "2          Hill, Rich     448179  2021          41      32           158.2   \n",
       "3     Morton, Charlie     450203  2021          37      33           185.2   \n",
       "4         Lester, Jon     452657  2021          37      28           141.1   \n",
       "..                ...        ...   ...         ...     ...             ...   \n",
       "406     Spence, Mitch     687765  2024          26      35           151.1   \n",
       "407    Harrison, Kyle     690986  2024          22      24           124.1   \n",
       "408   Pfaadt, Brandon     694297  2024          25      32           181.2   \n",
       "409      Stone, Gavin     694813  2024          25      25           140.1   \n",
       "410      Skenes, Paul     694973  2024          22      23           133.0   \n",
       "\n",
       "      pa   ab  hit  single  ...  fastball_range_speed  n_breaking_formatted  \\\n",
       "0    828  765  168     111  ...                   2.7                  34.1   \n",
       "1    697  652  164     105  ...                   1.3                  31.9   \n",
       "2    661  582  137      83  ...                   2.0                  44.7   \n",
       "3    756  669  136     100  ...                   3.4                  36.7   \n",
       "4    627  558  159     101  ...                   1.8                   8.4   \n",
       "..   ...  ...  ...     ...  ...                   ...                   ...   \n",
       "406  651  598  165     101  ...                   1.6                  44.7   \n",
       "407  532  476  125      81  ...                   1.4                  22.6   \n",
       "408  760  707  183     122  ...                   1.4                  32.6   \n",
       "409  580  537  133      88  ...                   1.6                  20.7   \n",
       "410  514  475   94      69  ...                   2.9                  27.0   \n",
       "\n",
       "     breaking_avg_speed  breaking_avg_spin  breaking_avg_break  \\\n",
       "0                  73.4               2835                22.2   \n",
       "1                  77.0               2358                12.5   \n",
       "2                  71.4               2695                23.1   \n",
       "3                  80.6               3053                19.5   \n",
       "4                  72.6               2437                11.9   \n",
       "..                  ...                ...                 ...   \n",
       "406                83.2               2773                15.8   \n",
       "407                80.7               1980                10.3   \n",
       "408                84.2               2799                13.7   \n",
       "409                87.6               2145                 4.7   \n",
       "410                84.4               2407                 9.9   \n",
       "\n",
       "     breaking_range_speed  n_offspeed_formatted  offspeed_avg_speed  \\\n",
       "0                     1.9                   6.4                82.7   \n",
       "1                     7.2                  22.3                86.4   \n",
       "2                     2.0                   3.0                80.9   \n",
       "3                     1.3                   5.3                86.4   \n",
       "4                     1.9                  18.2                81.3   \n",
       "..                    ...                   ...                 ...   \n",
       "406                   2.3                   1.1                88.4   \n",
       "407                   2.1                  19.7                84.8   \n",
       "408                   2.1                  11.8                87.6   \n",
       "409                   2.8                  26.6                87.5   \n",
       "410                   2.2                   5.4                87.3   \n",
       "\n",
       "     offspeed_avg_spin  offspeed_range_speed  \n",
       "0               1715.0                   1.6  \n",
       "1               1594.0                   1.2  \n",
       "2               1672.0                   2.0  \n",
       "3               2100.0                   1.4  \n",
       "4               1737.0                   1.4  \n",
       "..                 ...                   ...  \n",
       "406             1449.0                   1.5  \n",
       "407             1946.0                   1.7  \n",
       "408             2052.0                   1.5  \n",
       "409             1665.0                   1.3  \n",
       "410             2044.0                   1.2  \n",
       "\n",
       "[411 rows x 165 columns]>"
      ]
     },
     "execution_count": 5,
     "metadata": {},
     "output_type": "execute_result"
    }
   ],
   "source": [
    "pitching_data.info"
   ]
  },
  {
   "cell_type": "code",
   "execution_count": 6,
   "id": "c62a8f71-7e4a-4731-bf75-e81bcbea0a93",
   "metadata": {},
   "outputs": [
    {
     "name": "stdout",
     "output_type": "stream",
     "text": [
      "Empty DataFrame\n",
      "Columns: []\n",
      "Index: []\n"
     ]
    }
   ],
   "source": [
    "test_data = {'A': [0, 1, 2], 'B': [0, 1, 2]}\n",
    "batting_norm = pd.DataFrame()\n",
    "print(batting_norm)"
   ]
  },
  {
   "cell_type": "code",
   "execution_count": 14,
   "id": "56b72fcb-e879-4609-bfa2-c8c086c82a1e",
   "metadata": {
    "scrolled": true
   },
   "outputs": [],
   "source": [
    "# Z normalize list of desired columns\n",
    "\n",
    "def normalize(data, col_list):\n",
    "    new_data = {}\n",
    "    for column in data.columns:\n",
    "        col_data = []\n",
    "        if column in col_list:\n",
    "            for index_r in range(data.shape[0]):    \n",
    "                z_normalize = (data.loc[index_r, column] - data[column].mean()) / data[column].std()\n",
    "                col_data.append(z_normalize)\n",
    "            new_data[column] = col_data\n",
    "    return(new_data)"
   ]
  },
  {
   "cell_type": "code",
   "execution_count": 9,
   "id": "21265568-568e-4538-b576-78ea0d17ca08",
   "metadata": {},
   "outputs": [
    {
     "data": {
      "text/plain": [
       "521"
      ]
     },
     "execution_count": 9,
     "metadata": {},
     "output_type": "execute_result"
    }
   ],
   "source": [
    "batting_data.loc[0,'ab']"
   ]
  },
  {
   "cell_type": "code",
   "execution_count": 15,
   "id": "8dca5eba-ce4f-4fcd-aecf-b084169e5d03",
   "metadata": {
    "scrolled": true
   },
   "outputs": [
    {
     "name": "stdout",
     "output_type": "stream",
     "text": [
      "       name_last_first  player_id  year  player_age        ab   pa  hit  \\\n",
      "0        Hunter, Torii     116338  2015          39  0.140171  567  125   \n",
      "1         Ortiz, David     120074  2015          39  0.200554  614  144   \n",
      "2      Rodriguez, Alex     121347  2015          39  0.157423  620  131   \n",
      "3      Ramirez, Aramis     133380  2015          37 -0.256633  516  117   \n",
      "4       Beltré, Adrian     134181  2015          36  0.536975  619  163   \n",
      "...                ...        ...   ...         ...       ...  ...  ...   \n",
      "1370  Chourio, Jackson     694192  2024          20  0.200554  573  145   \n",
      "1371   Schanuel, Nolan     694384  2024          22  0.122918  607  130   \n",
      "1372   Langford, Wyatt     694671  2024          22 -0.049605  557  126   \n",
      "1373      Young, Jacob     696285  2024          24 -0.317017  521  120   \n",
      "1374  Merrill, Jackson     701538  2024          21  0.424834  593  162   \n",
      "\n",
      "      single  double  triple  ...  opposite_percent  batted_ball  \\\n",
      "0         81      22       0  ...              24.2          421   \n",
      "1         70      37       0  ...              21.7          442   \n",
      "2         75      22       1  ...              16.6          385   \n",
      "3         68      31       1  ...              24.8          412   \n",
      "4        109      32       4  ...              23.3          510   \n",
      "...      ...     ...     ...  ...               ...          ...   \n",
      "1370      91      29       4  ...              24.1          410   \n",
      "1371      98      19       0  ...              23.0          426   \n",
      "1372      81      25       4  ...              22.0          387   \n",
      "1373      92      24       1  ...              36.9          377   \n",
      "1374     101      31       6  ...              26.0          462   \n",
      "\n",
      "      groundballs_percent  groundballs  flyballs_percent  flyballs  \\\n",
      "0                    49.4          208              22.6        95   \n",
      "1                    37.6          166              25.6       113   \n",
      "2                    43.6          168              24.9        96   \n",
      "3                    37.6          155              24.5       101   \n",
      "4                    42.4          216              18.4        94   \n",
      "...                   ...          ...               ...       ...   \n",
      "1370                 48.0          197              24.4       100   \n",
      "1371                 46.2          197              22.5        96   \n",
      "1372                 40.1          155              28.9       112   \n",
      "1373                 56.5          213              15.4        58   \n",
      "1374                 36.8          170              33.1       153   \n",
      "\n",
      "      linedrives_percent  linedrives  popups_percent  popups  \n",
      "0                   20.9          88             7.1      30  \n",
      "1                   28.7         127             8.1      36  \n",
      "2                   24.9          96             6.5      25  \n",
      "3                   29.1         120             8.7      36  \n",
      "4                   31.6         161             7.6      39  \n",
      "...                  ...         ...             ...     ...  \n",
      "1370                23.9          98             3.7      15  \n",
      "1371                27.7         118             3.5      15  \n",
      "1372                22.0          85             9.0      35  \n",
      "1373                23.1          87             5.0      19  \n",
      "1374                26.0         120             4.1      19  \n",
      "\n",
      "[1375 rows x 88 columns]\n"
     ]
    }
   ],
   "source": [
    "test_df = batting_data\n",
    "new_data = normalize(batting_data, ['ab'])\n",
    "print(test_df)"
   ]
  },
  {
   "cell_type": "code",
   "execution_count": 12,
   "id": "8799b7f5-30e8-4e0f-80e2-dc9059e13255",
   "metadata": {
    "scrolled": true
   },
   "outputs": [
    {
     "name": "stdout",
     "output_type": "stream",
     "text": [
      "0       521\n",
      "1       528\n",
      "2       523\n",
      "3       475\n",
      "4       567\n",
      "       ... \n",
      "1370    528\n",
      "1371    519\n",
      "1372    499\n",
      "1373    468\n",
      "1374    554\n",
      "Name: ab, Length: 1375, dtype: int64\n"
     ]
    }
   ],
   "source": [
    "print(test_df['ab'])"
   ]
  },
  {
   "cell_type": "code",
   "execution_count": 16,
   "id": "e79d3f34-741b-4a7b-8155-a036a1c56fb8",
   "metadata": {},
   "outputs": [
    {
     "name": "stdout",
     "output_type": "stream",
     "text": [
      "0       0.140171\n",
      "1       0.200554\n",
      "2       0.157423\n",
      "3      -0.256633\n",
      "4       0.536975\n",
      "          ...   \n",
      "1370    0.200554\n",
      "1371    0.122918\n",
      "1372   -0.049605\n",
      "1373   -0.317017\n",
      "1374    0.424834\n",
      "Name: ab, Length: 1375, dtype: float64\n"
     ]
    }
   ],
   "source": [
    "for key in new_data.keys():\n",
    "    test_df[key] = new_data[key]\n",
    "\n",
    "print(test_df['ab'])"
   ]
  },
  {
   "cell_type": "code",
   "execution_count": null,
   "id": "b1f0c916-56f3-43c9-bb2b-deea7efae48a",
   "metadata": {},
   "outputs": [],
   "source": []
  }
 ],
 "metadata": {
  "kernelspec": {
   "display_name": "Python 3 (ipykernel)",
   "language": "python",
   "name": "python3"
  },
  "language_info": {
   "codemirror_mode": {
    "name": "ipython",
    "version": 3
   },
   "file_extension": ".py",
   "mimetype": "text/x-python",
   "name": "python",
   "nbconvert_exporter": "python",
   "pygments_lexer": "ipython3",
   "version": "3.11.7"
  }
 },
 "nbformat": 4,
 "nbformat_minor": 5
}
