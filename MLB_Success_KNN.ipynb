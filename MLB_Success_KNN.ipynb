{
 "cells": [
  {
   "cell_type": "code",
   "execution_count": null,
   "id": "2a78cc0e-b03a-4bbd-ac46-e0b6bc746743",
   "metadata": {},
   "outputs": [],
   "source": [
    "import pandas as pd\n",
    "import matplotlib.pyplot as plt\n",
    "import numpy as np\n",
    "import seaborn as sns\n",
    "import math\n",
    "from operator import itemgetter"
   ]
  },
  {
   "cell_type": "code",
   "execution_count": null,
   "id": "16a961ad-823e-4700-86ee-325f20ea75e3",
   "metadata": {},
   "outputs": [],
   "source": [
    "batting_data = pd.read_csv('mlb_batting.csv')"
   ]
  },
  {
   "cell_type": "code",
   "execution_count": null,
   "id": "c785b7ad-3bba-436d-ae71-80766e56d83e",
   "metadata": {
    "jupyter": {
     "source_hidden": true
    },
    "scrolled": true
   },
   "outputs": [],
   "source": [
    "batting_data.info"
   ]
  },
  {
   "cell_type": "code",
   "execution_count": null,
   "id": "3b4cdd73-7831-4ab6-8977-93e813d9c1a6",
   "metadata": {
    "scrolled": true
   },
   "outputs": [],
   "source": [
    "batting_data[['woba', 'on_base_plus_slg', 'hard_hit_percent']].describe()"
   ]
  },
  {
   "cell_type": "code",
   "execution_count": null,
   "id": "94a91397-3ac7-488b-a6b3-f704cbf749d3",
   "metadata": {},
   "outputs": [],
   "source": [
    "batting_data.shape"
   ]
  },
  {
   "cell_type": "code",
   "execution_count": null,
   "id": "56b72fcb-e879-4609-bfa2-c8c086c82a1e",
   "metadata": {
    "scrolled": true
   },
   "outputs": [],
   "source": [
    "# Z normalize list of desired columns\n",
    "def normalize(data, col_list):\n",
    "    new_data = {}\n",
    "    for column in data.columns:\n",
    "        if column in col_list:\n",
    "            col_data = []\n",
    "            for index_r in range(data.shape[0]):    \n",
    "                z_normalize = ((data.loc[index_r, column] - data[column].mean())\n",
    "                    / data[column].std())\n",
    "                col_data.append(z_normalize)\n",
    "                col_name = f'Znorm_{column}'\n",
    "            new_data[col_name] = col_data\n",
    "    return(new_data)"
   ]
  },
  {
   "cell_type": "code",
   "execution_count": null,
   "id": "9aedee52-a7eb-4324-bb30-861f1c4c7919",
   "metadata": {},
   "outputs": [],
   "source": [
    "norm_cols = ['woba', 'on_base_plus_slg', 'hard_hit_percent']\n",
    "df_norms = pd.DataFrame(normalize(batting_data, norm_cols))\n",
    "df = pd.concat([batting_data, df_norms], axis=1)"
   ]
  },
  {
   "cell_type": "code",
   "execution_count": null,
   "id": "38ef1f38-2145-405a-baa9-7f0280f25be5",
   "metadata": {},
   "outputs": [],
   "source": [
    "# assign success labels\n",
    "def assign_labels(data):\n",
    "    woba_weight = 0.4\n",
    "    ops_weight = 0.4\n",
    "    hh_weight = 0.2\n",
    "    labeled_data = []\n",
    "    for index in range(data.shape[0]):\n",
    "        weighted_score = ((data.loc[index, 'Znorm_woba'] * woba_weight) +\n",
    "            (data.loc[index, 'Znorm_on_base_plus_slg'] * ops_weight) +\n",
    "            (data.loc[index, 'Znorm_hard_hit_percent'] * hh_weight))\n",
    "        if weighted_score > 1:\n",
    "            labeled_data.append(4)\n",
    "        elif weighted_score > 0:\n",
    "            labeled_data.append(3)\n",
    "        elif weighted_score > -1:\n",
    "            labeled_data.append(2)\n",
    "        else:\n",
    "            labeled_data.append(1)\n",
    "\n",
    "    success = {'success': labeled_data}\n",
    "    return success"
   ]
  },
  {
   "cell_type": "code",
   "execution_count": null,
   "id": "639c2d0c-589b-44d1-a3b2-c36a8cb8a566",
   "metadata": {},
   "outputs": [],
   "source": [
    "success_labels = pd.DataFrame(assign_labels(df))\n",
    "knn_data = pd.concat([df, success_labels], axis=1)"
   ]
  },
  {
   "cell_type": "code",
   "execution_count": null,
   "id": "02a35e82-971a-4f38-9471-247311ed872d",
   "metadata": {},
   "outputs": [],
   "source": [
    "knn_data"
   ]
  },
  {
   "cell_type": "code",
   "execution_count": null,
   "id": "990b93fb-aa94-46d5-b54d-162ff473f491",
   "metadata": {},
   "outputs": [],
   "source": [
    "def get_player_stats(df, player_id, year):\n",
    "    player_stats = df[(df['player_id'] == player_id) & (df['year'] == year)]\n",
    "    if not player_stats.empty:\n",
    "        return player_stats.index\n",
    "    else:\n",
    "        return None"
   ]
  },
  {
   "cell_type": "code",
   "execution_count": null,
   "id": "6ac7fe2e-bf43-4ca8-94b0-a3117523e10f",
   "metadata": {},
   "outputs": [],
   "source": [
    "def manhattan_distance(data, player1_id, player1_year, player2):\n",
    "    player1 = data.loc[get_player_stats(data, player1_id, player1_year)].iloc[0]\n",
    "    woba = abs(player1['Znorm_woba'] - data.loc[player2, 'Znorm_woba'])\n",
    "    ops = abs(player1['Znorm_on_base_plus_slg'] - data.loc[player2, 'Znorm_on_base_plus_slg'])\n",
    "    hhp = abs(player1['Znorm_hard_hit_percent'] - data.loc[player2, 'Znorm_hard_hit_percent'])\n",
    "    return (woba + ops + hhp)"
   ]
  },
  {
   "cell_type": "code",
   "execution_count": null,
   "id": "dd1ab189-a386-4f55-b163-6f4274724337",
   "metadata": {},
   "outputs": [],
   "source": [
    "def knn_predict(data, k, player_id, player_year):\n",
    "    distances = []\n",
    "    for i in range(data.shape[0]):\n",
    "        dist = manhattan_distance(data, 701538, 2024, i)\n",
    "        success_level = data.iloc[i]['success']\n",
    "        distances.append([dist, success_level])\n",
    "\n",
    "    dist_sorted = sorted(distances, key=lambda x: x[0], reverse = True)\n",
    "    k_nearest_labels = [label for _, label in dist_sorted[:k]]\n",
    "    print(k_nearest_labels)\n",
    "    prediction = max(set(k_nearest_labels), key=k_nearest_labels.count)\n",
    "    return prediction"
   ]
  },
  {
   "cell_type": "code",
   "execution_count": null,
   "id": "f1aa9865-ea53-4af0-9ab3-e5b7ab7e560a",
   "metadata": {},
   "outputs": [],
   "source": [
    "k = int(math.sqrt(knn_data.shape[0]))"
   ]
  },
  {
   "cell_type": "code",
   "execution_count": null,
   "id": "872bc7bb-8819-442d-ba7b-e70a68d61d0d",
   "metadata": {},
   "outputs": [],
   "source": [
    "# knn for Jackson Merrill, 2024 using Manhattan\n",
    "# Expected Success Level: 4\n",
    "prediction = knn_predict(knn_data, k, 701538, 2024)\n",
    "print(f'Success level: {prediction}')"
   ]
  },
  {
   "cell_type": "code",
   "execution_count": null,
   "id": "9bcaf2bd-c6e1-4f6f-a935-434dd215089e",
   "metadata": {},
   "outputs": [],
   "source": [
    "# knn for Jackson Merrill, 2024 using Manhattan\n",
    "# Expected Success Level: 4\n",
    "prediction = knn_predict(knn_data, 5, 701538, 2024)\n",
    "print(f'Success level: {prediction}')"
   ]
  },
  {
   "cell_type": "code",
   "execution_count": null,
   "id": "cf9f42e5-3242-4777-af02-a0ec74ea8e5b",
   "metadata": {},
   "outputs": [],
   "source": [
    "# knn for Robbie Grossman, 2021 using Manhattan\n",
    "# Expected Success Level: 2\n",
    "prediction = knn_predict(knn_data, k, 543257, 2021)\n",
    "print(f'Success level: {prediction}')"
   ]
  },
  {
   "cell_type": "code",
   "execution_count": null,
   "id": "3af3fe6d-7829-4fcd-9504-cf4e5b507451",
   "metadata": {},
   "outputs": [],
   "source": [
    "# knn for Robbie Grossman, 2021 using Manhattan\n",
    "# Expected Success Level: 2\n",
    "prediction = knn_predict(knn_data, 11, 543257, 2021)\n",
    "print(f'Success level: {prediction}')"
   ]
  },
  {
   "cell_type": "code",
   "execution_count": null,
   "id": "0c3a4393-ab78-43ba-b662-54a889857215",
   "metadata": {},
   "outputs": [],
   "source": [
    "knn_data.loc[(knn_data['player_id'] == 543257) & (knn_data['year'] == 2021)]"
   ]
  },
  {
   "cell_type": "code",
   "execution_count": null,
   "id": "a374fec6-d670-4260-bb14-03a8dde425a9",
   "metadata": {},
   "outputs": [],
   "source": [
    "knn_data['success'].describe()"
   ]
  },
  {
   "cell_type": "code",
   "execution_count": null,
   "id": "a3446c7e-12d5-4f67-b2c8-9a146db3d0fd",
   "metadata": {},
   "outputs": [],
   "source": [
    "counts = {1: 0, 2: 0, 3: 0, 4: 0}\n",
    "for i in range(knn_data.shape[0]):\n",
    "    s_level = knn_data.iloc[i]['success']\n",
    "    if s_level in counts.keys():\n",
    "        counts[s_level] += 1\n",
    "\n",
    "print(counts)"
   ]
  },
  {
   "cell_type": "code",
   "execution_count": null,
   "id": "b06b228b-1289-4fe5-96c2-9e2b16a5b09e",
   "metadata": {},
   "outputs": [],
   "source": [
    "import numpy as np\n",
    "\n",
    "# Extract normalized features\n",
    "features = knn_data[['Znorm_woba', 'Znorm_on_base_plus_slg', 'Znorm_hard_hit_percent']]\n",
    "covariance_matrix = np.cov(features.T)  # Covariance matrix\n",
    "inverse_covariance_matrix = np.linalg.inv(covariance_matrix)  # Inverse covariance matrix"
   ]
  },
  {
   "cell_type": "code",
   "execution_count": null,
   "id": "256d49c9-bb17-4c0d-b909-edbc9b0bd9bc",
   "metadata": {},
   "outputs": [],
   "source": [
    "def mahalanobis_distance(data, player1_id, player1_year, player2, inv_cov_matrix):\n",
    "    player1_stats = data.loc[get_player_stats(data, player1_id, player1_year)].iloc[0]\n",
    "    player2_stats = data.loc[player2]\n",
    "    diff = np.array([\n",
    "        player1_stats['Znorm_woba'] - player2_stats['Znorm_woba'],\n",
    "        player1_stats['Znorm_on_base_plus_slg'] - player2_stats['Znorm_on_base_plus_slg'],\n",
    "        player1_stats['Znorm_hard_hit_percent'] - player2_stats['Znorm_hard_hit_percent']\n",
    "    ])\n",
    "    mahalanobis_dist = np.sqrt(np.dot(np.dot(diff.T, inv_cov_matrix), diff))\n",
    "    return mahalanobis_dist"
   ]
  },
  {
   "cell_type": "code",
   "execution_count": null,
   "id": "0f9f55a7-d62d-476e-acb7-99fe1945c6f5",
   "metadata": {},
   "outputs": [],
   "source": [
    "def knn_predict2(data, k, player_id, player_year, inv_cov_matrix):\n",
    "    distances = []\n",
    "    for i in range(data.shape[0]):\n",
    "        dist = mahalanobis_distance(data, player_id, player_year, i, inv_cov_matrix)\n",
    "        success_level = data.iloc[i]['success']\n",
    "        distances.append([dist, success_level])\n",
    "\n",
    "    dist_sorted = sorted(distances, key=lambda x: x[0], reverse = True)\n",
    "    k_nearest_labels = [label for _, label in dist_sorted[:k]]\n",
    "    print(k_nearest_labels)\n",
    "    prediction = max(set(k_nearest_labels), key=k_nearest_labels.count)\n",
    "    return prediction"
   ]
  },
  {
   "cell_type": "code",
   "execution_count": null,
   "id": "188a8eb3-8d74-427d-9604-7a6d9bbba151",
   "metadata": {},
   "outputs": [],
   "source": [
    "# knn for Jackson Merrill, 2024 using Mahalanobis\n",
    "# Expected Success Level: 4\n",
    "prediction = knn_predict2(knn_data, k, 701538, 2024, inverse_covariance_matrix)\n",
    "print(f'Success level: {prediction}')"
   ]
  },
  {
   "cell_type": "code",
   "execution_count": null,
   "id": "9f06cd07-43c5-4b78-963e-dc2e1c3d2820",
   "metadata": {},
   "outputs": [],
   "source": [
    "# knn for Jackson Merrill, 2024 using Mahalanobis\n",
    "# Expected Success Level: 4\n",
    "prediction = knn_predict2(knn_data, 7, 701538, 2024, inverse_covariance_matrix)\n",
    "print(f'Success level: {prediction}')"
   ]
  },
  {
   "cell_type": "code",
   "execution_count": null,
   "id": "4a10a83d-82b0-44f0-b89a-bb521c2c786e",
   "metadata": {},
   "outputs": [],
   "source": [
    "# knn for Robbie Grossman, 2021 using Mahalanobis\n",
    "# Expected Success Level: 2\n",
    "prediction = knn_predict2(knn_data, k, 543257, 2021, inverse_covariance_matrix)\n",
    "print(f'Success level: {prediction}')"
   ]
  },
  {
   "cell_type": "code",
   "execution_count": null,
   "id": "1b244fdb-dbc0-4a4d-8622-7029e637006a",
   "metadata": {},
   "outputs": [],
   "source": [
    "# knn for Robbie Grossman, 2021 using Mahalanobis\n",
    "# Expected Success Level: 2\n",
    "prediction = knn_predict2(knn_data, 11, 543257, 2021, inverse_covariance_matrix)\n",
    "print(f'Success level: {prediction}')"
   ]
  }
 ],
 "metadata": {
  "kernelspec": {
   "display_name": "Python 3 (ipykernel)",
   "language": "python",
   "name": "python3"
  },
  "language_info": {
   "codemirror_mode": {
    "name": "ipython",
    "version": 3
   },
   "file_extension": ".py",
   "mimetype": "text/x-python",
   "name": "python",
   "nbconvert_exporter": "python",
   "pygments_lexer": "ipython3",
   "version": "3.11.7"
  }
 },
 "nbformat": 4,
 "nbformat_minor": 5
}
