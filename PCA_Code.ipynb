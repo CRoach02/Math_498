{
 "cells": [
  {
   "cell_type": "code",
   "execution_count": 1,
   "id": "92e55ea9-60be-4e42-9e80-f1e9202a2744",
   "metadata": {},
   "outputs": [],
   "source": [
    "import pandas as pd\n",
    "import numpy as np\n",
    "import matplotlib.pyplot as plt\n",
    "from sklearn.preprocessing import StandardScaler\n",
    "from sklearn.decomposition import PCA"
   ]
  },
  {
   "cell_type": "code",
   "execution_count": 2,
   "id": "eeac0fcb-2f85-4ed8-9cb0-6fb9a1111a8c",
   "metadata": {},
   "outputs": [],
   "source": [
    "batting_data = pd.read_csv('mlb_batting.csv')\n",
    "df = batting_data"
   ]
  },
  {
   "cell_type": "code",
   "execution_count": 3,
   "id": "2a1cce30-fb5d-4c67-b2da-c456c6bf7774",
   "metadata": {},
   "outputs": [
    {
     "name": "stdout",
     "output_type": "stream",
     "text": [
      "Index(['avg_swing_speed', 'fast_swing_rate', 'blasts_contact', 'blasts_swing',\n",
      "       'squared_up_contact', 'squared_up_swing', 'avg_swing_length', 'swords'],\n",
      "      dtype='object')\n"
     ]
    }
   ],
   "source": [
    "# Print any columns that contain nan values\n",
    "print(df.columns[df.isnull().any()])"
   ]
  },
  {
   "cell_type": "code",
   "execution_count": 4,
   "id": "119c0e3a-423b-4cda-bb90-f86f4a558ace",
   "metadata": {},
   "outputs": [],
   "source": [
    "# Remove nan value columns from data for PCA\n",
    "for col in df.columns[df.isnull().any()]:\n",
    "    del df[col]"
   ]
  },
  {
   "cell_type": "code",
   "execution_count": 5,
   "id": "c7c8fa37-e989-414a-b9a6-43f18325e7eb",
   "metadata": {},
   "outputs": [
    {
     "name": "stdout",
     "output_type": "stream",
     "text": [
      "Index(['name_last_first', 'player_id', 'year', 'player_age', 'ab', 'pa', 'hit',\n",
      "       'single', 'double', 'triple', 'home_run', 'strikeout', 'walk',\n",
      "       'k_percent', 'bb_percent', 'batting_avg', 'slg_percent',\n",
      "       'on_base_percent', 'on_base_plus_slg', 'b_ball', 'b_called_strike',\n",
      "       'b_foul', 'b_foul_tip', 'b_swinging_strike', 'r_run', 'b_total_ball',\n",
      "       'b_total_sacrifices', 'b_total_strike', 'b_total_swinging_strike',\n",
      "       'xba', 'xslg', 'woba', 'xwoba', 'xobp', 'xiso', 'xbadiff', 'xslgdiff',\n",
      "       'exit_velocity_avg', 'launch_angle_avg', 'sweet_spot_percent', 'barrel',\n",
      "       'barrel_batted_rate', 'solidcontact_percent', 'flareburner_percent',\n",
      "       'poorlyweak_percent', 'hard_hit_percent', 'avg_best_speed',\n",
      "       'avg_hyper_speed', 'z_swing_percent', 'z_swing_miss_percent',\n",
      "       'oz_swing_percent', 'oz_swing_miss_percent', 'out_zone_swing',\n",
      "       'out_zone_percent', 'out_zone', 'meatball_swing_percent',\n",
      "       'meatball_percent', 'pitch_count_offspeed', 'pitch_count_fastball',\n",
      "       'pitch_count_breaking', 'pitch_count', 'iz_contact_percent',\n",
      "       'in_zone_swing_miss', 'in_zone_swing', 'in_zone_percent', 'in_zone',\n",
      "       'whiff_percent', 'swing_percent', 'pull_percent',\n",
      "       'straightaway_percent', 'opposite_percent', 'batted_ball',\n",
      "       'groundballs_percent', 'groundballs', 'flyballs_percent', 'flyballs',\n",
      "       'linedrives_percent', 'linedrives', 'popups_percent', 'popups'],\n",
      "      dtype='object')\n"
     ]
    }
   ],
   "source": [
    "print(df.columns[:])"
   ]
  },
  {
   "cell_type": "code",
   "execution_count": 6,
   "id": "483e096b-d2a5-4f08-94e3-11cbb63a5dd5",
   "metadata": {},
   "outputs": [],
   "source": [
    "# Remove remaining nan value columns from data for PCA\n",
    "col_removal = ['name_last_first', 'player_id', 'year', 'player_age', \n",
    "               'avg_swing_speed', 'fast_swing_rate', 'blasts_contact', \n",
    "               'blasts_swing', 'squared_up_swing','squared_up_contact', 'avg_swing_length', 'swords']\n",
    "for col in df:\n",
    "    if col in col_removal:\n",
    "        del df[col]"
   ]
  },
  {
   "cell_type": "code",
   "execution_count": 7,
   "id": "5adba910-e4eb-424a-baf7-a8a0c99c2579",
   "metadata": {},
   "outputs": [
    {
     "name": "stdout",
     "output_type": "stream",
     "text": [
      "Index(['ab', 'pa', 'hit', 'single', 'double', 'triple', 'home_run',\n",
      "       'strikeout', 'walk', 'k_percent', 'bb_percent', 'batting_avg',\n",
      "       'slg_percent', 'on_base_percent', 'on_base_plus_slg', 'b_ball',\n",
      "       'b_called_strike', 'b_foul', 'b_foul_tip', 'b_swinging_strike', 'r_run',\n",
      "       'b_total_ball', 'b_total_sacrifices', 'b_total_strike',\n",
      "       'b_total_swinging_strike', 'xba', 'xslg', 'woba', 'xwoba', 'xobp',\n",
      "       'xiso', 'xbadiff', 'xslgdiff', 'exit_velocity_avg', 'launch_angle_avg',\n",
      "       'sweet_spot_percent', 'barrel', 'barrel_batted_rate',\n",
      "       'solidcontact_percent', 'flareburner_percent', 'poorlyweak_percent',\n",
      "       'hard_hit_percent', 'avg_best_speed', 'avg_hyper_speed',\n",
      "       'z_swing_percent', 'z_swing_miss_percent', 'oz_swing_percent',\n",
      "       'oz_swing_miss_percent', 'out_zone_swing', 'out_zone_percent',\n",
      "       'out_zone', 'meatball_swing_percent', 'meatball_percent',\n",
      "       'pitch_count_offspeed', 'pitch_count_fastball', 'pitch_count_breaking',\n",
      "       'pitch_count', 'iz_contact_percent', 'in_zone_swing_miss',\n",
      "       'in_zone_swing', 'in_zone_percent', 'in_zone', 'whiff_percent',\n",
      "       'swing_percent', 'pull_percent', 'straightaway_percent',\n",
      "       'opposite_percent', 'batted_ball', 'groundballs_percent', 'groundballs',\n",
      "       'flyballs_percent', 'flyballs', 'linedrives_percent', 'linedrives',\n",
      "       'popups_percent', 'popups'],\n",
      "      dtype='object')\n"
     ]
    }
   ],
   "source": [
    "print(df.columns[:])"
   ]
  },
  {
   "cell_type": "code",
   "execution_count": 8,
   "id": "f8cc33ca-27b5-4490-b26f-084823773d14",
   "metadata": {},
   "outputs": [],
   "source": [
    "def run_pca_analysis(X, selected_features=None, n_components_plot=20):\n",
    "    scaler = StandardScaler()\n",
    "    X_scaled = scaler.fit_transform(X)\n",
    "    pca = PCA()\n",
    "    X_pca = pca.fit_transform(X_scaled)\n",
    "    explained_variance = pca.explained_variance_ratio_\n",
    "    \n",
    "    plt.figure(figsize=(10,6))\n",
    "    plt.plot(range(1, n_components_plot+1), explained_variance.cumsum()[:n_components_plot], marker='o')\n",
    "    plt.xlabel('Number of Principal Components')\n",
    "    plt.ylabel('Cumulative Explained Variance')\n",
    "    plt.title('Explained Variance by Principal Components')\n",
    "    plt.grid(True)\n",
    "    plt.show()\n",
    "    loadings = pd.DataFrame(pca.components_.T, index=X.columns, \n",
    "                            columns=[f'PC{i+1}' for i in range(X.shape[1])])\n",
    "\n",
    "    if selected_features is not None:\n",
    "        print(\"\\nImportance (absolute loading) of features PC1:\")\n",
    "        for feature in selected_features:\n",
    "            if feature in loadings.index:\n",
    "                print(f\"{feature}: {loadings.loc[feature, 'PC1']:.4f}\")\n",
    "            else:\n",
    "                print(f\"{feature}: NOT FOUND in dataset columns!\")\n",
    "    \n",
    "    return loadings"
   ]
  },
  {
   "cell_type": "code",
   "execution_count": 9,
   "id": "b477ae61-e980-4a4e-9fd7-a8e35f64f7c3",
   "metadata": {},
   "outputs": [
    {
     "data": {
      "image/png": "[encoded data removed]",
      "text/plain": [
       "<Figure size 1000x600 with 1 Axes>"
      ]
     },
     "metadata": {},
     "output_type": "display_data"
    },
    {
     "name": "stdout",
     "output_type": "stream",
     "text": [
      "\n",
      "Importance (absolute loading) of features PC1:\n",
      "ab: 0.1888\n",
      "pa: 0.1990\n",
      "hit: 0.1804\n",
      "single: 0.1262\n",
      "double: 0.1590\n",
      "triple: 0.0415\n",
      "home_run: 0.1579\n",
      "strikeout: 0.1474\n",
      "walk: 0.1544\n",
      "k_percent: 0.0071\n",
      "bb_percent: 0.0529\n",
      "batting_avg: 0.0483\n",
      "slg_percent: 0.0901\n",
      "on_base_percent: 0.0714\n",
      "on_base_plus_slg: 0.0915\n",
      "b_ball: 0.1957\n",
      "b_called_strike: 0.1384\n",
      "b_foul: 0.1821\n",
      "b_foul_tip: 0.1305\n",
      "b_swinging_strike: 0.1373\n",
      "r_run: 0.1923\n",
      "b_total_ball: 0.1978\n",
      "b_total_sacrifices: 0.0579\n",
      "b_total_strike: 0.1973\n",
      "b_total_swinging_strike: 0.0908\n",
      "xba: 0.0562\n",
      "xslg: 0.0909\n",
      "woba: 0.0902\n",
      "xwoba: 0.0900\n",
      "xobp: 0.0730\n",
      "xiso: 0.0852\n",
      "xbadiff: 0.0029\n",
      "xslgdiff: -0.0100\n",
      "exit_velocity_avg: 0.0795\n",
      "launch_angle_avg: 0.0425\n",
      "sweet_spot_percent: 0.0521\n",
      "barrel: 0.1588\n",
      "barrel_batted_rate: 0.0749\n",
      "solidcontact_percent: 0.0648\n",
      "flareburner_percent: -0.0131\n",
      "poorlyweak_percent: -0.0526\n",
      "hard_hit_percent: 0.0690\n",
      "avg_best_speed: 0.0733\n",
      "avg_hyper_speed: 0.0727\n",
      "z_swing_percent: 0.0066\n",
      "z_swing_miss_percent: 0.0167\n",
      "oz_swing_percent: -0.0272\n",
      "oz_swing_miss_percent: 0.0088\n",
      "out_zone_swing: 0.1435\n",
      "out_zone_percent: 0.0228\n",
      "out_zone: 0.2065\n",
      "meatball_swing_percent: 0.0191\n",
      "meatball_percent: -0.0224\n",
      "pitch_count_offspeed: 0.1426\n",
      "pitch_count_fastball: 0.1880\n",
      "pitch_count_breaking: 0.1828\n",
      "pitch_count: 0.2039\n",
      "iz_contact_percent: -0.0140\n",
      "in_zone_swing_miss: 0.1345\n",
      "in_zone_swing: 0.1951\n",
      "in_zone_percent: -0.0228\n",
      "in_zone: 0.1921\n",
      "whiff_percent: 0.0111\n",
      "swing_percent: -0.0179\n",
      "pull_percent: 0.0232\n",
      "straightaway_percent: -0.0132\n",
      "opposite_percent: -0.0222\n",
      "batted_ball: 0.1629\n",
      "groundballs_percent: -0.0542\n",
      "groundballs: 0.1080\n",
      "flyballs_percent: 0.0518\n",
      "flyballs: 0.1682\n",
      "linedrives_percent: 0.0263\n",
      "linedrives: 0.1482\n",
      "popups_percent: -0.0040\n",
      "popups: 0.0874\n"
     ]
    }
   ],
   "source": [
    "selected_stats = df.columns\n",
    "loadings = run_pca_analysis(df, selected_features=selected_stats)"
   ]
  },
  {
   "cell_type": "code",
   "execution_count": 10,
   "id": "fe1a0d82-f7f1-48f1-84a7-f9d324daa90c",
   "metadata": {},
   "outputs": [
    {
     "name": "stdout",
     "output_type": "stream",
     "text": [
      "barrel_batted_rate         0.074856\n",
      "exit_velocity_avg          0.079534\n",
      "xiso                       0.085246\n",
      "popups                     0.087449\n",
      "xwoba                      0.089961\n",
      "slg_percent                0.090147\n",
      "woba                       0.090236\n",
      "b_total_swinging_strike    0.090818\n",
      "xslg                       0.090950\n",
      "on_base_plus_slg           0.091550\n",
      "groundballs                0.108023\n",
      "single                     0.126183\n",
      "b_foul_tip                 0.130517\n",
      "in_zone_swing_miss         0.134526\n",
      "b_swinging_strike          0.137320\n",
      "b_called_strike            0.138444\n",
      "pitch_count_offspeed       0.142598\n",
      "out_zone_swing             0.143485\n",
      "strikeout                  0.147364\n",
      "linedrives                 0.148196\n",
      "walk                       0.154411\n",
      "home_run                   0.157949\n",
      "barrel                     0.158840\n",
      "double                     0.158951\n",
      "batted_ball                0.162860\n",
      "flyballs                   0.168199\n",
      "hit                        0.180444\n",
      "b_foul                     0.182095\n",
      "pitch_count_breaking       0.182820\n",
      "pitch_count_fastball       0.187990\n",
      "ab                         0.188835\n",
      "in_zone                    0.192059\n",
      "r_run                      0.192276\n",
      "in_zone_swing              0.195078\n",
      "b_ball                     0.195669\n",
      "b_total_strike             0.197269\n",
      "b_total_ball               0.197814\n",
      "pa                         0.198972\n",
      "pitch_count                0.203916\n",
      "out_zone                   0.206485\n",
      "Name: PC1, dtype: float64\n"
     ]
    }
   ],
   "source": [
    "pc1_sorted = loadings['PC1'].sort_values()\n",
    "print(pc1_sorted[-40:])"
   ]
  }
 ],
 "metadata": {
  "kernelspec": {
   "display_name": "Python 3 (ipykernel)",
   "language": "python",
   "name": "python3"
  },
  "language_info": {
   "codemirror_mode": {
    "name": "ipython",
    "version": 3
   },
   "file_extension": ".py",
   "mimetype": "text/x-python",
   "name": "python",
   "nbconvert_exporter": "python",
   "pygments_lexer": "ipython3",
   "version": "3.11.7"
  }
 },
 "nbformat": 4,
 "nbformat_minor": 5
}
